{
 "cells": [
  {
   "cell_type": "code",
   "execution_count": 1,
   "metadata": {},
   "outputs": [
    {
     "name": "stderr",
     "output_type": "stream",
     "text": [
      "2020-09-27 15:30:32,566\tINFO resource_spec.py:231 -- Starting Ray with 13.87 GiB memory available for workers and up to 6.94 GiB for objects. You can adjust these settings with ray.init(memory=<bytes>, object_store_memory=<bytes>).\n",
      "2020-09-27 15:30:33,108\tINFO services.py:1193 -- View the Ray dashboard at \u001b[1m\u001b[32mlocalhost:8267\u001b[39m\u001b[22m\n"
     ]
    },
    {
     "data": {
      "text/plain": [
       "{'node_ip_address': '192.168.7.73',\n",
       " 'raylet_ip_address': '192.168.7.73',\n",
       " 'redis_address': '192.168.7.73:24266',\n",
       " 'object_store_address': '/tmp/ray/session_2020-09-27_15-30-32_565757_36187/sockets/plasma_store',\n",
       " 'raylet_socket_name': '/tmp/ray/session_2020-09-27_15-30-32_565757_36187/sockets/raylet',\n",
       " 'webui_url': 'localhost:8267',\n",
       " 'session_dir': '/tmp/ray/session_2020-09-27_15-30-32_565757_36187'}"
      ]
     },
     "execution_count": 1,
     "metadata": {},
     "output_type": "execute_result"
    }
   ],
   "source": [
    "import ray\n",
    "# Initialize Ray\n",
    "ray.shutdown()\n",
    "ray.init(ignore_reinit_error=True,num_cpus=8, num_gpus=1)"
   ]
  },
  {
   "cell_type": "code",
   "execution_count": 2,
   "metadata": {},
   "outputs": [
    {
     "data": {
      "text/plain": [
       "{'GPUType:GTX': 1.0,\n",
       " 'GPU': 1.0,\n",
       " 'node:192.168.7.73': 1.0,\n",
       " 'object_store_memory': 98.0,\n",
       " 'memory': 284.0,\n",
       " 'CPU': 8.0}"
      ]
     },
     "execution_count": 2,
     "metadata": {},
     "output_type": "execute_result"
    }
   ],
   "source": [
    "# https://docs.ray.io/en/latest/tune/user-guide.html#parallelism-gpus\n",
    "ray.cluster_resources()"
   ]
  },
  {
   "cell_type": "code",
   "execution_count": 3,
   "metadata": {},
   "outputs": [
    {
     "name": "stdout",
     "output_type": "stream",
     "text": [
      "Dashboard URL: http://localhost:8267\n"
     ]
    }
   ],
   "source": [
    "print(\"Dashboard URL: http://{}\".format(ray.get_webui_url()))"
   ]
  },
  {
   "cell_type": "markdown",
   "metadata": {},
   "source": [
    "## MineRL Gym Environment wrapper for action space etc"
   ]
  },
  {
   "cell_type": "code",
   "execution_count": 4,
   "metadata": {},
   "outputs": [],
   "source": [
    "# Make sure env_wrappers.py is in the same directory\n",
    "# https://github.com/minerllabs/baselines/blob/master/2019/general/chainerrl/baselines/env_wrappers.py\n",
    "import gym\n",
    "from env_wrappers import (\n",
    "    SerialDiscreteActionWrapper, CombineActionWrapper, SerialDiscreteCombineActionWrapper,\n",
    "    MoveAxisWrapper, FrameSkip, ObtainPoVWrapper, PoVWithCompassAngleWrapper, GrayScaleWrapper\n",
    ")\n",
    "\n",
    "# Sean: Skip logger for now\n",
    "# from logging import getLogger\n",
    "# logger = getLogger(__name__)\n",
    "\n",
    "def wrap_env(env, args, test=False):\n",
    "    # wrap env: time limit...\n",
    "    if isinstance(env, gym.wrappers.TimeLimit):\n",
    "#         logger.info('Detected `gym.wrappers.TimeLimit`! Unwrap it and re-wrap our own time limit.')\n",
    "        env = env.env\n",
    "        max_episode_steps = env.spec.max_episode_steps\n",
    "        \n",
    "        # Sean: ContinuingTimeLimit is a chainrl feature which we will not be using\n",
    "#         env = ContinuingTimeLimit(env, max_episode_steps=max_episode_steps)\n",
    "\n",
    "    # wrap env: observation...\n",
    "    # NOTE: wrapping order matters!\n",
    "\n",
    "    if test and args.monitor:\n",
    "        pass\n",
    "        # Sean: ContinuingTimeLimit is a chainrl feature which we will not be using\n",
    "#         env = ContinuingTimeLimitMonitor(\n",
    "#             env, os.path.join(args.outdir, 'monitor'),\n",
    "#             mode='evaluation' if test else 'training', video_callable=lambda episode_id: True)\n",
    "    if args.frame_skip is not None:\n",
    "        env = FrameSkip(env, skip=args.frame_skip)\n",
    "    if args.gray_scale:\n",
    "        env = GrayScaleWrapper(env, dict_space_key='pov')\n",
    "    if args.env.startswith('MineRLNavigate'):\n",
    "        env = PoVWithCompassAngleWrapper(env)\n",
    "    else:\n",
    "        env = ObtainPoVWrapper(env)\n",
    "    \n",
    "    # Sean: Skip ChainRL requirements\n",
    "#     env = MoveAxisWrapper(env, source=-1, destination=0)  # convert hwc -> chw as Chainer requires.\n",
    "#     env = ScaledFloatFrame(env)\n",
    "    \n",
    "    if args.frame_stack is not None and args.frame_stack > 0:\n",
    "        env = FrameStack(env, args.frame_stack, channel_order='chw')\n",
    "\n",
    "    # wrap env: action...\n",
    "    if not args.disable_action_prior:\n",
    "        env = SerialDiscreteActionWrapper(\n",
    "            env,\n",
    "            always_keys=args.always_keys, reverse_keys=args.reverse_keys, exclude_keys=args.exclude_keys, exclude_noop=args.exclude_noop)\n",
    "    else:\n",
    "        env = CombineActionWrapper(env)\n",
    "        env = SerialDiscreteCombineActionWrapper(env)\n",
    "\n",
    "    # Sean: not supported yet ? according to original file\n",
    "    # env_seed = test_seed if test else train_seed\n",
    "    # env.seed(int(env_seed))  # TODO: not supported yet\n",
    "    return env\n",
    "\n",
    "\n"
   ]
  },
  {
   "cell_type": "markdown",
   "metadata": {},
   "source": [
    "## Configuration for MineRL wrapper"
   ]
  },
  {
   "cell_type": "code",
   "execution_count": 5,
   "metadata": {},
   "outputs": [],
   "source": [
    "# Agruments for wrapper\n",
    "from datetime import datetime\n",
    "class Args:\n",
    "    def __init__(self):\n",
    "        # Set environment Name\n",
    "        self.env = 'MineRLNavigateDenseVectorObf-v0' #'MineRLNavigateDense-v0'\n",
    "        \n",
    "        # Set frame skipping or stacking\n",
    "        self.frame_skip = None\n",
    "        self.frame_stack = None\n",
    "        \n",
    "        # Set gray scale or rgb input\n",
    "        self.gray_scale = False\n",
    "        \n",
    "        # Toggle for monitoring / video recordings\n",
    "        self.monitor = False\n",
    "        \n",
    "        # Output folder for monitor\n",
    "        now = datetime.now()\n",
    "        date_time = now.strftime(\"%m_%d_%Y_HR_%H_MIN_%M_SEC_%S\")\n",
    "        self.outdir = f'results/{self.env}/date_time'\n",
    "        \n",
    "        # Disable prior action sets such as repeating or excluding actions\n",
    "        self.disable_action_prior = True\n",
    "        \n",
    "        # Set always pressed / repeated keys by agent\n",
    "        self.always_keys = 'forward sprint attack' # Just an example !\n",
    "        \n",
    "        # Set excluded keys for agent\n",
    "        exclude_keys = 'back left right sneak place' # Just an example !\n",
    "        \n",
    "        # Check code from baseline script for more info:\n",
    "        # https://github.com/minerllabs/baselines/blob/master/2019/general/chainerrl/baselines/ppo.sh\n",
    "        # https://github.com/minerllabs/baselines/blob/master/2019/general/chainerrl/baselines/ppo.py"
   ]
  },
  {
   "cell_type": "markdown",
   "metadata": {},
   "source": [
    "## Registering MineRL Envs in RLLIB"
   ]
  },
  {
   "cell_type": "code",
   "execution_count": 6,
   "metadata": {},
   "outputs": [],
   "source": [
    "from ray.tune.registry import register_env\n",
    "\n",
    "def minerl_env_creator(env_config):\n",
    "    import minerl # Load MineRL environments as Gym Environments\n",
    "#     import gym\n",
    "    # Load wrapper configurations\n",
    "    args = Args()\n",
    "    \n",
    "    # Create Minecraft environment\n",
    "    core_env = gym.make(args.env)\n",
    "    minerl_env = wrap_env(core_env, args, test=False)\n",
    "    \n",
    "    # Code below is from original code in \n",
    "    # https://github.com/minerllabs/baselines/blob/master/2019/general/chainerrl/baselines/ppo.py\n",
    "    # eval_env = gym.make(args.env)  # Can't create multiple MineRL envs\n",
    "    # eval_env = wrap_env(eval_env, test=True)\n",
    "    # eval_env = wrap_env(core_env, test=True)\n",
    "    \n",
    "    return minerl_env  "
   ]
  },
  {
   "cell_type": "code",
   "execution_count": 7,
   "metadata": {},
   "outputs": [],
   "source": [
    "# Register MineRL environment in RLLIB\n",
    "register_env(\"minerl\", minerl_env_creator)"
   ]
  },
  {
   "cell_type": "code",
   "execution_count": 8,
   "metadata": {},
   "outputs": [],
   "source": [
    "# import minerl\n",
    "# import gym\n",
    "# # Check minerl environments\n",
    "# # This only checks Gym environment not the ones registered in Ray!\n",
    "# all_envs = gym.envs.registry.all()\n",
    "# env_ids = [env_spec.id for env_spec in all_envs]\n",
    "# print(env_ids)"
   ]
  },
  {
   "cell_type": "code",
   "execution_count": 9,
   "metadata": {},
   "outputs": [],
   "source": [
    "# # Test run\n",
    "\n",
    "# import minerl\n",
    "# args = Args()\n",
    "# core_env = gym.make(args.env)\n",
    "# minerl_env = wrap_env(core_env, args, test=False)\n",
    "# minerl_env.reset()\n",
    "# for i in range(500):\n",
    "#     minerl_env.step(minerl_env.action_space.sample())"
   ]
  },
  {
   "cell_type": "code",
   "execution_count": null,
   "metadata": {},
   "outputs": [],
   "source": []
  },
  {
   "cell_type": "code",
   "execution_count": null,
   "metadata": {},
   "outputs": [],
   "source": []
  },
  {
   "cell_type": "markdown",
   "metadata": {},
   "source": [
    "## Register custom vision network to process input"
   ]
  },
  {
   "cell_type": "code",
   "execution_count": 10,
   "metadata": {},
   "outputs": [],
   "source": [
    "import numpy as np\n",
    "import torch\n",
    "import torch.optim as optim\n",
    "import torch.nn as nn\n",
    "from torchvision import datasets, transforms\n",
    "from torch.utils.data import DataLoader\n",
    "import torch.nn.functional as F\n",
    "\n",
    "from ray import tune\n",
    "from ray.tune.schedulers import ASHAScheduler"
   ]
  },
  {
   "cell_type": "code",
   "execution_count": 11,
   "metadata": {},
   "outputs": [
    {
     "name": "stdout",
     "output_type": "stream",
     "text": [
      "WARNING:tensorflow:From /home/blackbox/anaconda3/envs/minerl/lib/python3.7/site-packages/tensorflow_core/python/compat/v2_compat.py:68: disable_resource_variables (from tensorflow.python.ops.variable_scope) is deprecated and will be removed in a future version.\n",
      "Instructions for updating:\n",
      "non-resource variables are not supported in the long term\n"
     ]
    }
   ],
   "source": [
    "# Registering a custom model, simple version --> fully connected network\n",
    "# We need this because the default configurations for the model network is\n",
    "# not compatible with the shape of the output from the MineRL environment\n",
    "# The output is a 64 x 64 pixels with RGBA of game play P.O.V. --> shape = (4, 64, 64)\n",
    "\n",
    "# Otherwise we will get:\n",
    "# ValueError: No default configuration for obs shape [4, 64, 64], you must specify \n",
    "# `conv_filters` manually as a model option. Default configurations are only available\n",
    "# for inputs of shape [42, 42, K] and [84, 84, K]. You may alternatively want to use \n",
    "# a custom model or preprocessor.\n",
    "\n",
    "from ray.rllib.models import ModelCatalog\n",
    "from ray.rllib.models.torch.torch_modelv2 import TorchModelV2\n",
    "from ray.rllib.models.torch.fcnet import FullyConnectedNetwork as TorchFC\n",
    "\n",
    "# https://docs.ray.io/en/releases-0.8.5/rllib-examples.html\n",
    "# The register custom env and model links to custom_env.py\n",
    "# https://github.com/ray-project/ray/blob/master/rllib/examples/custom_env.py\n",
    "class TorchCustomModel(TorchModelV2, nn.Module):\n",
    "    \"\"\"Example of a PyTorch custom model that just delegates to a fc-net.\"\"\"\n",
    "\n",
    "    def __init__(self, obs_space, action_space, num_outputs, model_config,\n",
    "                 name):\n",
    "        TorchModelV2.__init__(self, obs_space, action_space, num_outputs,\n",
    "                              model_config, name)\n",
    "        nn.Module.__init__(self)\n",
    "\n",
    "        self.torch_sub_model = TorchFC(obs_space, action_space, num_outputs,\n",
    "                                       model_config, name)\n",
    "\n",
    "    def forward(self, input_dict, state, seq_lens):\n",
    "        input_dict[\"obs\"] = input_dict[\"obs\"].float()\n",
    "        fc_out, _ = self.torch_sub_model(input_dict, state, seq_lens)\n",
    "        return fc_out, []\n",
    "\n",
    "    def value_function(self):\n",
    "        return torch.reshape(self.torch_sub_model.value_function(), [-1])\n",
    "\n",
    "ModelCatalog.register_custom_model(\"fc_pov\", TorchCustomModel)\n",
    "# Weird tensorflow error? even though using torch"
   ]
  },
  {
   "cell_type": "code",
   "execution_count": 12,
   "metadata": {},
   "outputs": [],
   "source": [
    "# https://groups.google.com/forum/#!topic/ray-dev/coaz8dgHyYw\n",
    "# https://docs.ray.io/en/latest/rllib-training.html#specifying-resources\n",
    "# Setting resources_per_trial={\"cpu\": 8, \"gpu\": 1} will cause issues"
   ]
  },
  {
   "cell_type": "code",
   "execution_count": null,
   "metadata": {},
   "outputs": [],
   "source": []
  },
  {
   "cell_type": "code",
   "execution_count": 13,
   "metadata": {},
   "outputs": [
    {
     "data": {
      "text/html": [
       "== Status ==<br>Memory usage on this node: 10.4/31.4 GiB<br>Using FIFO scheduling algorithm.<br>Resources requested: 2/8 CPUs, 1/1 GPUs, 0.0/13.87 GiB heap, 0.0/4.79 GiB objects (0/1.0 GPUType:GTX)<br>Result logdir: /home/blackbox/ray_results/PPO<br>Number of trials: 1 (1 RUNNING)<br><table>\n",
       "<thead>\n",
       "<tr><th>Trial name            </th><th>status  </th><th>loc  </th></tr>\n",
       "</thead>\n",
       "<tbody>\n",
       "<tr><td>PPO_minerl_10736_00000</td><td>RUNNING </td><td>     </td></tr>\n",
       "</tbody>\n",
       "</table><br><br>"
      ],
      "text/plain": [
       "<IPython.core.display.HTML object>"
      ]
     },
     "metadata": {},
     "output_type": "display_data"
    },
    {
     "name": "stderr",
     "output_type": "stream",
     "text": [
      "\u001b[2m\u001b[36m(pid=36245)\u001b[0m WARNING:tensorflow:From /home/blackbox/anaconda3/envs/minerl/lib/python3.7/site-packages/tensorflow_core/python/compat/v2_compat.py:68: disable_resource_variables (from tensorflow.python.ops.variable_scope) is deprecated and will be removed in a future version.\n",
      "\u001b[2m\u001b[36m(pid=36245)\u001b[0m Instructions for updating:\n",
      "\u001b[2m\u001b[36m(pid=36245)\u001b[0m non-resource variables are not supported in the long term\n",
      "\u001b[2m\u001b[36m(pid=36245)\u001b[0m 2020-09-27 15:30:38,924\tWARNING deprecation.py:30 -- DeprecationWarning: `use_pytorch` has been deprecated. Use `framework=torch` instead. This will raise an error in the future!\n",
      "\u001b[2m\u001b[36m(pid=36245)\u001b[0m 2020-09-27 15:30:38,924\tWARNING deprecation.py:30 -- DeprecationWarning: `eager` has been deprecated. Use `framework=tfe` instead. This will raise an error in the future!\n",
      "\u001b[2m\u001b[36m(pid=36245)\u001b[0m 2020-09-27 15:30:38,924\tINFO trainer.py:632 -- Current log_level is WARN. For more information, set 'log_level': 'INFO' / 'DEBUG' or use the -v and -vv flags.\n",
      "\u001b[2m\u001b[36m(pid=36245)\u001b[0m /home/blackbox/anaconda3/envs/minerl/lib/python3.7/site-packages/gym/logger.py:30: UserWarning: \u001b[33mWARN: Box bound precision lowered by casting to float32\u001b[0m\n",
      "\u001b[2m\u001b[36m(pid=36245)\u001b[0m   warnings.warn(colorize('%s: %s'%('WARN', msg % args), 'yellow'))\n",
      "2020-09-27 15:31:15,690\tERROR trial_runner.py:523 -- Trial PPO_minerl_10736_00000: Error processing event.\n",
      "Traceback (most recent call last):\n",
      "  File \"/home/blackbox/anaconda3/envs/minerl/lib/python3.7/site-packages/ray/tune/trial_runner.py\", line 471, in _process_trial\n",
      "    result = self.trial_executor.fetch_result(trial)\n",
      "  File \"/home/blackbox/anaconda3/envs/minerl/lib/python3.7/site-packages/ray/tune/ray_trial_executor.py\", line 430, in fetch_result\n",
      "    result = ray.get(trial_future[0], DEFAULT_GET_TIMEOUT)\n",
      "  File \"/home/blackbox/anaconda3/envs/minerl/lib/python3.7/site-packages/ray/worker.py\", line 1538, in get\n",
      "    raise value.as_instanceof_cause()\n",
      "ray.exceptions.RayTaskError(KeyError): \u001b[36mray::PPO.train()\u001b[39m (pid=36245, ip=192.168.7.73)\n",
      "  File \"python/ray/_raylet.pyx\", line 439, in ray._raylet.execute_task\n",
      "  File \"python/ray/_raylet.pyx\", line 474, in ray._raylet.execute_task\n",
      "  File \"python/ray/_raylet.pyx\", line 478, in ray._raylet.execute_task\n",
      "  File \"python/ray/_raylet.pyx\", line 479, in ray._raylet.execute_task\n",
      "  File \"python/ray/_raylet.pyx\", line 432, in ray._raylet.execute_task.function_executor\n",
      "  File \"/home/blackbox/anaconda3/envs/minerl/lib/python3.7/site-packages/ray/rllib/agents/trainer_template.py\", line 88, in __init__\n",
      "    Trainer.__init__(self, config, env, logger_creator)\n",
      "  File \"/home/blackbox/anaconda3/envs/minerl/lib/python3.7/site-packages/ray/rllib/agents/trainer.py\", line 479, in __init__\n",
      "    super().__init__(config, logger_creator)\n",
      "  File \"/home/blackbox/anaconda3/envs/minerl/lib/python3.7/site-packages/ray/tune/trainable.py\", line 245, in __init__\n",
      "    self.setup(copy.deepcopy(self.config))\n",
      "  File \"/home/blackbox/anaconda3/envs/minerl/lib/python3.7/site-packages/ray/rllib/agents/trainer.py\", line 643, in setup\n",
      "    self._init(self.config, self.env_creator)\n",
      "  File \"/home/blackbox/anaconda3/envs/minerl/lib/python3.7/site-packages/ray/rllib/agents/trainer_template.py\", line 102, in _init\n",
      "    env_creator, self._policy, config, self.config[\"num_workers\"])\n",
      "  File \"/home/blackbox/anaconda3/envs/minerl/lib/python3.7/site-packages/ray/rllib/agents/trainer.py\", line 713, in _make_workers\n",
      "    logdir=self.logdir)\n",
      "  File \"/home/blackbox/anaconda3/envs/minerl/lib/python3.7/site-packages/ray/rllib/evaluation/worker_set.py\", line 67, in __init__\n",
      "    RolloutWorker, env_creator, policy, 0, self._local_config)\n",
      "  File \"/home/blackbox/anaconda3/envs/minerl/lib/python3.7/site-packages/ray/rllib/evaluation/worker_set.py\", line 296, in _make_worker\n",
      "    extra_python_environs=extra_python_environs)\n",
      "  File \"/home/blackbox/anaconda3/envs/minerl/lib/python3.7/site-packages/ray/rllib/evaluation/rollout_worker.py\", line 324, in __init__\n",
      "    self.env = _validate_env(env_creator(env_context))\n",
      "  File \"<ipython-input-6-72ee1c385972>\", line 11, in minerl_env_creator\n",
      "  File \"<ipython-input-4-62278fd900a2>\", line 37, in wrap_env\n",
      "  File \"/home/blackbox/Documents/projects/minerl_round1/env_wrappers.py\", line 194, in __init__\n",
      "    compass_angle_space = self.env.observation_space.spaces['compassAngle']\n",
      "KeyError: 'compassAngle'\n"
     ]
    },
    {
     "data": {
      "text/html": [
       "== Status ==<br>Memory usage on this node: 13.9/31.4 GiB<br>Using FIFO scheduling algorithm.<br>Resources requested: 0/8 CPUs, 0/1 GPUs, 0.0/13.87 GiB heap, 0.0/4.79 GiB objects (0/1.0 GPUType:GTX)<br>Result logdir: /home/blackbox/ray_results/PPO<br>Number of trials: 1 (1 ERROR)<br><table>\n",
       "<thead>\n",
       "<tr><th>Trial name            </th><th>status  </th><th>loc  </th></tr>\n",
       "</thead>\n",
       "<tbody>\n",
       "<tr><td>PPO_minerl_10736_00000</td><td>ERROR   </td><td>     </td></tr>\n",
       "</tbody>\n",
       "</table><br>Number of errored trials: 1<br><table>\n",
       "<thead>\n",
       "<tr><th>Trial name            </th><th style=\"text-align: right;\">  # failures</th><th>error file                                                                       </th></tr>\n",
       "</thead>\n",
       "<tbody>\n",
       "<tr><td>PPO_minerl_10736_00000</td><td style=\"text-align: right;\">           1</td><td>/home/blackbox/ray_results/PPO/PPO_minerl_0_2020-09-27_15-30-3646l_lrua/error.txt</td></tr>\n",
       "</tbody>\n",
       "</table><br>"
      ],
      "text/plain": [
       "<IPython.core.display.HTML object>"
      ]
     },
     "metadata": {},
     "output_type": "display_data"
    },
    {
     "data": {
      "text/html": [
       "== Status ==<br>Memory usage on this node: 13.9/31.4 GiB<br>Using FIFO scheduling algorithm.<br>Resources requested: 0/8 CPUs, 0/1 GPUs, 0.0/13.87 GiB heap, 0.0/4.79 GiB objects (0/1.0 GPUType:GTX)<br>Result logdir: /home/blackbox/ray_results/PPO<br>Number of trials: 1 (1 ERROR)<br><table>\n",
       "<thead>\n",
       "<tr><th>Trial name            </th><th>status  </th><th>loc  </th></tr>\n",
       "</thead>\n",
       "<tbody>\n",
       "<tr><td>PPO_minerl_10736_00000</td><td>ERROR   </td><td>     </td></tr>\n",
       "</tbody>\n",
       "</table><br>Number of errored trials: 1<br><table>\n",
       "<thead>\n",
       "<tr><th>Trial name            </th><th style=\"text-align: right;\">  # failures</th><th>error file                                                                       </th></tr>\n",
       "</thead>\n",
       "<tbody>\n",
       "<tr><td>PPO_minerl_10736_00000</td><td style=\"text-align: right;\">           1</td><td>/home/blackbox/ray_results/PPO/PPO_minerl_0_2020-09-27_15-30-3646l_lrua/error.txt</td></tr>\n",
       "</tbody>\n",
       "</table><br>"
      ],
      "text/plain": [
       "<IPython.core.display.HTML object>"
      ]
     },
     "metadata": {},
     "output_type": "display_data"
    },
    {
     "ename": "TuneError",
     "evalue": "('Trials did not complete', [PPO_minerl_10736_00000])",
     "output_type": "error",
     "traceback": [
      "\u001b[0;31m---------------------------------------------------------------------------\u001b[0m",
      "\u001b[0;31mTuneError\u001b[0m                                 Traceback (most recent call last)",
      "\u001b[0;32m<ipython-input-13-ab0e44b360a4>\u001b[0m in \u001b[0;36m<module>\u001b[0;34m\u001b[0m\n\u001b[1;32m     14\u001b[0m                     }\n\u001b[1;32m     15\u001b[0m                  }\n\u001b[0;32m---> 16\u001b[0;31m          ,stop={\"training_iteration\": 2})  \n\u001b[0m",
      "\u001b[0;32m~/anaconda3/envs/minerl/lib/python3.7/site-packages/ray/tune/tune.py\u001b[0m in \u001b[0;36mrun\u001b[0;34m(run_or_experiment, name, stop, config, resources_per_trial, num_samples, local_dir, upload_dir, trial_name_creator, loggers, sync_to_cloud, sync_to_driver, checkpoint_freq, checkpoint_at_end, sync_on_checkpoint, keep_checkpoints_num, checkpoint_score_attr, global_checkpoint_period, export_formats, max_failures, fail_fast, restore, search_alg, scheduler, with_server, server_port, verbose, progress_reporter, resume, queue_trials, reuse_actors, trial_executor, raise_on_failed_trial, return_trials, ray_auto_init)\u001b[0m\n\u001b[1;32m    354\u001b[0m     \u001b[0;32mif\u001b[0m \u001b[0mincomplete_trials\u001b[0m\u001b[0;34m:\u001b[0m\u001b[0;34m\u001b[0m\u001b[0;34m\u001b[0m\u001b[0m\n\u001b[1;32m    355\u001b[0m         \u001b[0;32mif\u001b[0m \u001b[0mraise_on_failed_trial\u001b[0m\u001b[0;34m:\u001b[0m\u001b[0;34m\u001b[0m\u001b[0;34m\u001b[0m\u001b[0m\n\u001b[0;32m--> 356\u001b[0;31m             \u001b[0;32mraise\u001b[0m \u001b[0mTuneError\u001b[0m\u001b[0;34m(\u001b[0m\u001b[0;34m\"Trials did not complete\"\u001b[0m\u001b[0;34m,\u001b[0m \u001b[0mincomplete_trials\u001b[0m\u001b[0;34m)\u001b[0m\u001b[0;34m\u001b[0m\u001b[0;34m\u001b[0m\u001b[0m\n\u001b[0m\u001b[1;32m    357\u001b[0m         \u001b[0;32melse\u001b[0m\u001b[0;34m:\u001b[0m\u001b[0;34m\u001b[0m\u001b[0;34m\u001b[0m\u001b[0m\n\u001b[1;32m    358\u001b[0m             \u001b[0mlogger\u001b[0m\u001b[0;34m.\u001b[0m\u001b[0merror\u001b[0m\u001b[0;34m(\u001b[0m\u001b[0;34m\"Trials did not complete: %s\"\u001b[0m\u001b[0;34m,\u001b[0m \u001b[0mincomplete_trials\u001b[0m\u001b[0;34m)\u001b[0m\u001b[0;34m\u001b[0m\u001b[0;34m\u001b[0m\u001b[0m\n",
      "\u001b[0;31mTuneError\u001b[0m: ('Trials did not complete', [PPO_minerl_10736_00000])"
     ]
    },
    {
     "name": "stderr",
     "output_type": "stream",
     "text": [
      "\u001b[2m\u001b[36m(pid=36245)\u001b[0m *** Aborted at 1601245878 (unix time) try \"date -d @1601245878\" if you are using GNU date ***\n",
      "\u001b[2m\u001b[36m(pid=36245)\u001b[0m PC: @                0x0 (unknown)\n",
      "\u001b[2m\u001b[36m(pid=36245)\u001b[0m *** SIGSEGV (@0x7f4b2607c9d0) received by PID 36453 (TID 0x7f4d0d2db740) from PID 638044624; stack trace: ***\n",
      "\u001b[2m\u001b[36m(pid=36245)\u001b[0m     @     0x7f4d0d64c3c0 (unknown)\n",
      "\u001b[2m\u001b[36m(pid=36245)\u001b[0m     @     0x7f4d0d641aab __pthread_clockjoin_ex\n",
      "\u001b[2m\u001b[36m(pid=36245)\u001b[0m     @     0x7f4d0b2172d3 std::thread::join()\n",
      "\u001b[2m\u001b[36m(pid=36245)\u001b[0m     @     0x7f4d0b748493 ray::gcs::GlobalStateAccessor::Disconnect()\n",
      "\u001b[2m\u001b[36m(pid=36245)\u001b[0m     @     0x7f4d0b5e7fbc __pyx_pw_3ray_7_raylet_19GlobalStateAccessor_5disconnect()\n",
      "\u001b[2m\u001b[36m(pid=36245)\u001b[0m     @     0x55a2f1da7b71 _PyMethodDef_RawFastCallKeywords\n",
      "\u001b[2m\u001b[36m(pid=36245)\u001b[0m     @     0x55a2f1daeaef _PyMethodDescr_FastCallKeywords\n",
      "\u001b[2m\u001b[36m(pid=36245)\u001b[0m     @     0x55a2f1e1337c _PyEval_EvalFrameDefault\n",
      "\u001b[2m\u001b[36m(pid=36245)\u001b[0m     @     0x55a2f1da720b _PyFunction_FastCallKeywords\n",
      "\u001b[2m\u001b[36m(pid=36245)\u001b[0m     @     0x55a2f1e0ee70 _PyEval_EvalFrameDefault\n",
      "\u001b[2m\u001b[36m(pid=36245)\u001b[0m     @     0x55a2f1d572b9 _PyEval_EvalCodeWithName\n",
      "\u001b[2m\u001b[36m(pid=36245)\u001b[0m     @     0x55a2f1da7435 _PyFunction_FastCallKeywords\n",
      "\u001b[2m\u001b[36m(pid=36245)\u001b[0m     @     0x55a2f1e0ebe6 _PyEval_EvalFrameDefault\n",
      "\u001b[2m\u001b[36m(pid=36245)\u001b[0m     @     0x55a2f1d572b9 _PyEval_EvalCodeWithName\n",
      "\u001b[2m\u001b[36m(pid=36245)\u001b[0m     @     0x55a2f1d583e5 _PyFunction_FastCallDict\n",
      "\u001b[2m\u001b[36m(pid=36245)\u001b[0m     @     0x55a2f1dbcc70 PyErr_CheckSignals\n",
      "\u001b[2m\u001b[36m(pid=36245)\u001b[0m     @     0x55a2f1dc89c6 time_sleep\n",
      "\u001b[2m\u001b[36m(pid=36245)\u001b[0m     @     0x55a2f1da7abd _PyMethodDef_RawFastCallKeywords\n",
      "\u001b[2m\u001b[36m(pid=36245)\u001b[0m     @     0x55a2f1da7db1 _PyCFunction_FastCallKeywords\n",
      "\u001b[2m\u001b[36m(pid=36245)\u001b[0m     @     0x55a2f1e135be _PyEval_EvalFrameDefault\n",
      "\u001b[2m\u001b[36m(pid=36245)\u001b[0m     @     0x55a2f1d57b00 _PyEval_EvalCodeWithName\n",
      "\u001b[2m\u001b[36m(pid=36245)\u001b[0m     @     0x55a2f1d583e5 _PyFunction_FastCallDict\n",
      "\u001b[2m\u001b[36m(pid=36245)\u001b[0m     @     0x55a2f1e1051a _PyEval_EvalFrameDefault\n",
      "\u001b[2m\u001b[36m(pid=36245)\u001b[0m     @     0x55a2f1da720b _PyFunction_FastCallKeywords\n",
      "\u001b[2m\u001b[36m(pid=36245)\u001b[0m     @     0x55a2f1e0ee70 _PyEval_EvalFrameDefault\n",
      "\u001b[2m\u001b[36m(pid=36245)\u001b[0m     @     0x55a2f1da720b _PyFunction_FastCallKeywords\n",
      "\u001b[2m\u001b[36m(pid=36245)\u001b[0m     @     0x55a2f1e0ee70 _PyEval_EvalFrameDefault\n",
      "\u001b[2m\u001b[36m(pid=36245)\u001b[0m     @     0x55a2f1da720b _PyFunction_FastCallKeywords\n",
      "\u001b[2m\u001b[36m(pid=36245)\u001b[0m     @     0x55a2f1e0ee70 _PyEval_EvalFrameDefault\n",
      "\u001b[2m\u001b[36m(pid=36245)\u001b[0m     @     0x55a2f1d5831b _PyFunction_FastCallDict\n",
      "\u001b[2m\u001b[36m(pid=36245)\u001b[0m     @     0x55a2f1d76b93 _PyObject_Call_Prepend\n",
      "\u001b[2m\u001b[36m(pid=36245)\u001b[0m     @     0x55a2f1dae0aa slot_tp_init\n"
     ]
    }
   ],
   "source": [
    "from ray import tune\n",
    "# https://docs.ray.io/en/latest/rllib-training.html#tuned-examples\n",
    "\n",
    "tune.run(\"PPO\",\n",
    "         config={\"env\": \"minerl\",\n",
    "                 \"num_gpus\": 1,\n",
    "                 \"num_workers\": 1,\n",
    "                 \"num_envs_per_worker\": 1,\n",
    "                 \"eager\": False,\n",
    "                 \"use_pytorch\": True,\n",
    "#                  'monitor':True, \n",
    "                 \"model\": {\n",
    "                    \"custom_model\": \"fc_pov\",\n",
    "                    }\n",
    "                 }\n",
    "         ,stop={\"training_iteration\": 2})  "
   ]
  },
  {
   "cell_type": "code",
   "execution_count": null,
   "metadata": {},
   "outputs": [],
   "source": []
  },
  {
   "cell_type": "code",
   "execution_count": null,
   "metadata": {},
   "outputs": [],
   "source": []
  },
  {
   "cell_type": "code",
   "execution_count": null,
   "metadata": {},
   "outputs": [],
   "source": []
  },
  {
   "cell_type": "code",
   "execution_count": null,
   "metadata": {},
   "outputs": [],
   "source": []
  },
  {
   "cell_type": "code",
   "execution_count": null,
   "metadata": {},
   "outputs": [],
   "source": []
  },
  {
   "cell_type": "code",
   "execution_count": null,
   "metadata": {},
   "outputs": [],
   "source": [
    "## Something weird about using Trainer + Tune\n",
    "# from ray import tune\n",
    "# import ray.rllib.agents.ppo as ppo\n",
    "# # from ray.rllib.agents.dqn import PPOTrainer\n",
    "# # from ray.rllib.agents.dqn import DQNTrainer\n",
    "\n",
    "# # https://docs.ray.io/en/latest/rllib-training.html#tuned-examples\n",
    "# config = ppo.DEFAULT_CONFIG.copy()\n",
    "# config[\"num_gpus\"] = 1\n",
    "# config[\"num_workers\"] = 1\n",
    "# config[\"num_envs_per_worker\"] = 1\n",
    "# config[\"eager\"] = False\n",
    "# trainer = ppo.PPOTrainer(config=config)#, env=\"minerl\")\n",
    "\n",
    "# tune.run(trainer,\n",
    "#          config={\"env\": \"minerl\",\n",
    "#                  \"use_pytorch\": True,\n",
    "# #                  'monitor':True, \n",
    "#                  \"model\": {\n",
    "#                     \"custom_model\": \"fc_pov\",\n",
    "#                     }\n",
    "#                  }\n",
    "#          ,stop={\"training_iteration\": 2},\n",
    "#         resources_per_trial={\"cpu\": 8, \"gpu\": 1})  "
   ]
  },
  {
   "cell_type": "code",
   "execution_count": null,
   "metadata": {},
   "outputs": [],
   "source": []
  },
  {
   "cell_type": "code",
   "execution_count": null,
   "metadata": {},
   "outputs": [],
   "source": []
  },
  {
   "cell_type": "code",
   "execution_count": null,
   "metadata": {},
   "outputs": [],
   "source": []
  },
  {
   "cell_type": "code",
   "execution_count": null,
   "metadata": {},
   "outputs": [],
   "source": [
    "  "
   ]
  },
  {
   "cell_type": "code",
   "execution_count": null,
   "metadata": {},
   "outputs": [],
   "source": []
  },
  {
   "cell_type": "code",
   "execution_count": null,
   "metadata": {},
   "outputs": [],
   "source": []
  }
 ],
 "metadata": {
  "kernelspec": {
   "display_name": "Python 3",
   "language": "python",
   "name": "python3"
  },
  "language_info": {
   "codemirror_mode": {
    "name": "ipython",
    "version": 3
   },
   "file_extension": ".py",
   "mimetype": "text/x-python",
   "name": "python",
   "nbconvert_exporter": "python",
   "pygments_lexer": "ipython3",
   "version": "3.7.7"
  }
 },
 "nbformat": 4,
 "nbformat_minor": 4
}
