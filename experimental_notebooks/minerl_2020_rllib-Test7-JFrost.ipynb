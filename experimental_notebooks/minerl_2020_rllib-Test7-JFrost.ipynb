{
 "cells": [
  {
   "cell_type": "code",
   "execution_count": 1,
   "metadata": {},
   "outputs": [],
   "source": [
    "import gym\n",
    "import ray"
   ]
  },
  {
   "cell_type": "code",
   "execution_count": 2,
   "metadata": {},
   "outputs": [],
   "source": [
    "import numpy as np\n",
    "import torch\n",
    "import torch.optim as optim\n",
    "import torch.nn as nn\n",
    "from torchvision import datasets, transforms\n",
    "from torch.utils.data import DataLoader\n",
    "import torch.nn.functional as F\n",
    "\n",
    "from ray import tune\n",
    "from ray.tune.schedulers import ASHAScheduler"
   ]
  },
  {
   "cell_type": "code",
   "execution_count": 3,
   "metadata": {},
   "outputs": [
    {
     "name": "stderr",
     "output_type": "stream",
     "text": [
      "2020-09-27 16:49:55,282\tINFO resource_spec.py:231 -- Starting Ray with 13.57 GiB memory available for workers and up to 6.81 GiB for objects. You can adjust these settings with ray.init(memory=<bytes>, object_store_memory=<bytes>).\n",
      "2020-09-27 16:49:55,807\tINFO services.py:1193 -- View the Ray dashboard at \u001b[1m\u001b[32mlocalhost:8266\u001b[39m\u001b[22m\n"
     ]
    },
    {
     "data": {
      "text/plain": [
       "{'node_ip_address': '192.168.7.73',\n",
       " 'raylet_ip_address': '192.168.7.73',\n",
       " 'redis_address': '192.168.7.73:25146',\n",
       " 'object_store_address': '/tmp/ray/session_2020-09-27_16-49-55_281306_45839/sockets/plasma_store',\n",
       " 'raylet_socket_name': '/tmp/ray/session_2020-09-27_16-49-55_281306_45839/sockets/raylet',\n",
       " 'webui_url': 'localhost:8266',\n",
       " 'session_dir': '/tmp/ray/session_2020-09-27_16-49-55_281306_45839'}"
      ]
     },
     "execution_count": 3,
     "metadata": {},
     "output_type": "execute_result"
    }
   ],
   "source": [
    "# Initialize Ray\n",
    "ray.shutdown()\n",
    "ray.init(ignore_reinit_error=True,num_cpus=8, num_gpus=1)"
   ]
  },
  {
   "cell_type": "code",
   "execution_count": 4,
   "metadata": {},
   "outputs": [
    {
     "data": {
      "text/plain": [
       "{'GPU': 1.0,\n",
       " 'node:192.168.7.73': 1.0,\n",
       " 'memory': 278.0,\n",
       " 'GPUType:GTX': 1.0,\n",
       " 'object_store_memory': 96.0,\n",
       " 'CPU': 8.0}"
      ]
     },
     "execution_count": 4,
     "metadata": {},
     "output_type": "execute_result"
    }
   ],
   "source": [
    "# https://docs.ray.io/en/latest/tune/user-guide.html#parallelism-gpus\n",
    "ray.cluster_resources()"
   ]
  },
  {
   "cell_type": "code",
   "execution_count": 5,
   "metadata": {},
   "outputs": [
    {
     "name": "stdout",
     "output_type": "stream",
     "text": [
      "Dashboard URL: http://localhost:8266\n"
     ]
    }
   ],
   "source": [
    "print(\"Dashboard URL: http://{}\".format(ray.get_webui_url()))"
   ]
  },
  {
   "cell_type": "markdown",
   "metadata": {},
   "source": [
    "### Register MineRL Gym Environment to RLlib"
   ]
  },
  {
   "cell_type": "code",
   "execution_count": 6,
   "metadata": {},
   "outputs": [
    {
     "name": "stderr",
     "output_type": "stream",
     "text": [
      "/home/blackbox/anaconda3/envs/minerl/lib/python3.7/site-packages/gym/logger.py:30: UserWarning: \u001b[33mWARN: Box bound precision lowered by casting to float32\u001b[0m\n",
      "  warnings.warn(colorize('%s: %s'%('WARN', msg % args), 'yellow'))\n"
     ]
    }
   ],
   "source": [
    "from minerl_rllib.envs import register"
   ]
  },
  {
   "cell_type": "code",
   "execution_count": 7,
   "metadata": {},
   "outputs": [],
   "source": [
    "register()"
   ]
  },
  {
   "cell_type": "code",
   "execution_count": null,
   "metadata": {},
   "outputs": [],
   "source": []
  },
  {
   "cell_type": "code",
   "execution_count": null,
   "metadata": {},
   "outputs": [],
   "source": []
  },
  {
   "cell_type": "code",
   "execution_count": 8,
   "metadata": {},
   "outputs": [
    {
     "name": "stdout",
     "output_type": "stream",
     "text": [
      "WARNING:tensorflow:From /home/blackbox/anaconda3/envs/minerl/lib/python3.7/site-packages/tensorflow_core/python/compat/v2_compat.py:68: disable_resource_variables (from tensorflow.python.ops.variable_scope) is deprecated and will be removed in a future version.\n",
      "Instructions for updating:\n",
      "non-resource variables are not supported in the long term\n"
     ]
    },
    {
     "data": {
      "text/html": [
       "== Status ==<br>Memory usage on this node: 10.9/31.4 GiB<br>Using FIFO scheduling algorithm.<br>Resources requested: 2/8 CPUs, 1/1 GPUs, 0.0/13.57 GiB heap, 0.0/4.69 GiB objects (0/1.0 GPUType:GTX)<br>Result logdir: /home/blackbox/ray_results/PPO<br>Number of trials: 1 (1 RUNNING)<br><table>\n",
       "<thead>\n",
       "<tr><th>Trial name                                     </th><th>status  </th><th>loc  </th></tr>\n",
       "</thead>\n",
       "<tbody>\n",
       "<tr><td>PPO_MineRLNavigateDenseVectorObf-v0_27406_00000</td><td>RUNNING </td><td>     </td></tr>\n",
       "</tbody>\n",
       "</table><br><br>"
      ],
      "text/plain": [
       "<IPython.core.display.HTML object>"
      ]
     },
     "metadata": {},
     "output_type": "display_data"
    },
    {
     "name": "stderr",
     "output_type": "stream",
     "text": [
      "\u001b[2m\u001b[36m(pid=45922)\u001b[0m WARNING:tensorflow:From /home/blackbox/anaconda3/envs/minerl/lib/python3.7/site-packages/tensorflow_core/python/compat/v2_compat.py:68: disable_resource_variables (from tensorflow.python.ops.variable_scope) is deprecated and will be removed in a future version.\n",
      "\u001b[2m\u001b[36m(pid=45922)\u001b[0m Instructions for updating:\n",
      "\u001b[2m\u001b[36m(pid=45922)\u001b[0m non-resource variables are not supported in the long term\n",
      "\u001b[2m\u001b[36m(pid=45922)\u001b[0m /home/blackbox/anaconda3/envs/minerl/lib/python3.7/site-packages/gym/logger.py:30: UserWarning: \u001b[33mWARN: Box bound precision lowered by casting to float32\u001b[0m\n",
      "\u001b[2m\u001b[36m(pid=45922)\u001b[0m   warnings.warn(colorize('%s: %s'%('WARN', msg % args), 'yellow'))\n",
      "\u001b[2m\u001b[36m(pid=45922)\u001b[0m 2020-09-27 16:50:02,083\tWARNING deprecation.py:30 -- DeprecationWarning: `use_pytorch` has been deprecated. Use `framework=torch` instead. This will raise an error in the future!\n",
      "\u001b[2m\u001b[36m(pid=45922)\u001b[0m 2020-09-27 16:50:02,083\tWARNING deprecation.py:30 -- DeprecationWarning: `eager` has been deprecated. Use `framework=tfe` instead. This will raise an error in the future!\n",
      "\u001b[2m\u001b[36m(pid=45922)\u001b[0m 2020-09-27 16:50:02,083\tINFO trainer.py:632 -- Current log_level is WARN. For more information, set 'log_level': 'INFO' / 'DEBUG' or use the -v and -vv flags.\n",
      "\u001b[2m\u001b[36m(pid=45922)\u001b[0m 2020-09-27 16:50:04,226\tWARNING util.py:37 -- Install gputil for GPU system monitoring.\n",
      "\u001b[2m\u001b[36m(pid=45921)\u001b[0m WARNING:tensorflow:From /home/blackbox/anaconda3/envs/minerl/lib/python3.7/site-packages/tensorflow_core/python/compat/v2_compat.py:68: disable_resource_variables (from tensorflow.python.ops.variable_scope) is deprecated and will be removed in a future version.\n",
      "\u001b[2m\u001b[36m(pid=45921)\u001b[0m Instructions for updating:\n",
      "\u001b[2m\u001b[36m(pid=45921)\u001b[0m non-resource variables are not supported in the long term\n",
      "\u001b[2m\u001b[36m(pid=45921)\u001b[0m /home/blackbox/anaconda3/envs/minerl/lib/python3.7/site-packages/gym/logger.py:30: UserWarning: \u001b[33mWARN: Box bound precision lowered by casting to float32\u001b[0m\n",
      "\u001b[2m\u001b[36m(pid=45921)\u001b[0m   warnings.warn(colorize('%s: %s'%('WARN', msg % args), 'yellow'))\n",
      "\u001b[2m\u001b[36m(pid=45921)\u001b[0m /home/blackbox/anaconda3/envs/minerl/lib/python3.7/site-packages/ray/rllib/utils/torch_ops.py:149: UserWarning: The given NumPy array is not writeable, and PyTorch does not support non-writeable tensors. This means you can write to the underlying (supposedly non-writeable) NumPy array using the tensor. You may want to copy the array to protect its data or make it writeable before converting it to a tensor. This type of warning will be suppressed for the rest of this program. (Triggered internally at  /pytorch/torch/csrc/utils/tensor_numpy.cpp:141.)\n",
      "\u001b[2m\u001b[36m(pid=45921)\u001b[0m   tensor = torch.from_numpy(np.asarray(item))\n"
     ]
    },
    {
     "name": "stdout",
     "output_type": "stream",
     "text": [
      "Result for PPO_MineRLNavigateDenseVectorObf-v0_27406_00000:\n",
      "  custom_metrics: {}\n",
      "  date: 2020-09-27_16-51-49\n",
      "  done: false\n",
      "  episode_len_mean: .nan\n",
      "  episode_reward_max: .nan\n",
      "  episode_reward_mean: .nan\n",
      "  episode_reward_min: .nan\n",
      "  episodes_this_iter: 0\n",
      "  episodes_total: 0\n",
      "  experiment_id: 5bfaa4612e8f4cfab30958732c510cf7\n",
      "  experiment_tag: '0'\n",
      "  hostname: blackbox\n",
      "  info:\n",
      "    learner:\n",
      "      default_policy:\n",
      "        allreduce_latency: 0.0\n",
      "        cur_kl_coeff: 0.2\n",
      "        cur_lr: 5.0e-05\n",
      "        entropy: 90.85596132278442\n",
      "        entropy_coeff: 0.0\n",
      "        kl: 0.024287886277306825\n",
      "        policy_loss: -0.04235954786418006\n",
      "        total_loss: 0.16618813131935894\n",
      "        vf_explained_var: 0.0012483876198530197\n",
      "        vf_loss: 0.20369009929709136\n",
      "    num_steps_sampled: 4000\n",
      "    num_steps_trained: 4000\n",
      "  iterations_since_restore: 1\n",
      "  node_ip: 192.168.7.73\n",
      "  num_healthy_workers: 1\n",
      "  off_policy_estimator: {}\n",
      "  perf:\n",
      "    cpu_util_percent: 36.96266666666667\n",
      "    ram_util_percent: 50.93266666666666\n",
      "  pid: 45922\n",
      "  policy_reward_max: {}\n",
      "  policy_reward_mean: {}\n",
      "  policy_reward_min: {}\n",
      "  sampler_perf: {}\n",
      "  time_since_restore: 105.13667893409729\n",
      "  time_this_iter_s: 105.13667893409729\n",
      "  time_total_s: 105.13667893409729\n",
      "  timers:\n",
      "    learn_throughput: 346.017\n",
      "    learn_time_ms: 11560.135\n",
      "    sample_throughput: 42.757\n",
      "    sample_time_ms: 93551.079\n",
      "    update_time_ms: 9.404\n",
      "  timestamp: 1601250709\n",
      "  timesteps_since_restore: 0\n",
      "  timesteps_total: 4000\n",
      "  training_iteration: 1\n",
      "  trial_id: '27406_00000'\n",
      "  \n"
     ]
    },
    {
     "data": {
      "text/html": [
       "== Status ==<br>Memory usage on this node: 17.6/31.4 GiB<br>Using FIFO scheduling algorithm.<br>Resources requested: 2/8 CPUs, 1/1 GPUs, 0.0/13.57 GiB heap, 0.0/4.69 GiB objects (0/1.0 GPUType:GTX)<br>Result logdir: /home/blackbox/ray_results/PPO<br>Number of trials: 1 (1 RUNNING)<br><table>\n",
       "<thead>\n",
       "<tr><th>Trial name                                     </th><th>status  </th><th>loc               </th><th style=\"text-align: right;\">  iter</th><th style=\"text-align: right;\">  total time (s)</th><th style=\"text-align: right;\">  ts</th><th style=\"text-align: right;\">  reward</th></tr>\n",
       "</thead>\n",
       "<tbody>\n",
       "<tr><td>PPO_MineRLNavigateDenseVectorObf-v0_27406_00000</td><td>RUNNING </td><td>192.168.7.73:45922</td><td style=\"text-align: right;\">     1</td><td style=\"text-align: right;\">         105.137</td><td style=\"text-align: right;\">4000</td><td style=\"text-align: right;\">     nan</td></tr>\n",
       "</tbody>\n",
       "</table><br><br>"
      ],
      "text/plain": [
       "<IPython.core.display.HTML object>"
      ]
     },
     "metadata": {},
     "output_type": "display_data"
    },
    {
     "name": "stderr",
     "output_type": "stream",
     "text": [
      "\u001b[2m\u001b[36m(pid=45921)\u001b[0m /home/blackbox/anaconda3/envs/minerl/lib/python3.7/site-packages/minerl/herobraine/wrappers/obfuscation_wrapper.py:67: RuntimeWarning: invalid value encountered in true_divide\n",
      "\u001b[2m\u001b[36m(pid=45921)\u001b[0m   x[..., a:b] = e_x / e_x.sum(axis=-1)\n"
     ]
    },
    {
     "name": "stdout",
     "output_type": "stream",
     "text": [
      "Result for PPO_MineRLNavigateDenseVectorObf-v0_27406_00000:\n",
      "  custom_metrics: {}\n",
      "  date: 2020-09-27_16-53-01\n",
      "  done: false\n",
      "  episode_len_mean: 6000.0\n",
      "  episode_reward_max: 1.7386474609375\n",
      "  episode_reward_mean: 1.7386474609375\n",
      "  episode_reward_min: 1.7386474609375\n",
      "  episodes_this_iter: 1\n",
      "  episodes_total: 1\n",
      "  experiment_id: 5bfaa4612e8f4cfab30958732c510cf7\n",
      "  experiment_tag: '0'\n",
      "  hostname: blackbox\n",
      "  info:\n",
      "    learner:\n",
      "      default_policy:\n",
      "        allreduce_latency: 0.0\n",
      "        cur_kl_coeff: 0.30000000000000004\n",
      "        cur_lr: 5.0e-05\n",
      "        entropy: 90.74326992034912\n",
      "        entropy_coeff: 0.0\n",
      "        kl: 0.02322320465464145\n",
      "        policy_loss: -0.022967456898186356\n",
      "        total_loss: 0.08791951002785936\n",
      "        vf_explained_var: -2.1070241928100586e-05\n",
      "        vf_loss: 0.10392000596038997\n",
      "    num_steps_sampled: 8000\n",
      "    num_steps_trained: 8000\n",
      "  iterations_since_restore: 2\n",
      "  node_ip: 192.168.7.73\n",
      "  num_healthy_workers: 1\n",
      "  off_policy_estimator: {}\n",
      "  perf:\n",
      "    cpu_util_percent: 31.829126213592232\n",
      "    ram_util_percent: 55.996116504854356\n",
      "  pid: 45922\n",
      "  policy_reward_max: {}\n",
      "  policy_reward_mean: {}\n",
      "  policy_reward_min: {}\n",
      "  sampler_perf:\n",
      "    mean_env_wait_ms: 12.726894931008914\n",
      "    mean_inference_ms: 3.1349953376208375\n",
      "    mean_processing_ms: 2.958118014150285\n",
      "  time_since_restore: 176.95498132705688\n",
      "  time_this_iter_s: 71.8183023929596\n",
      "  time_total_s: 176.95498132705688\n",
      "  timers:\n",
      "    learn_throughput: 345.511\n",
      "    learn_time_ms: 11577.072\n",
      "    sample_throughput: 52.03\n",
      "    sample_time_ms: 76878.398\n",
      "    update_time_ms: 9.235\n",
      "  timestamp: 1601250781\n",
      "  timesteps_since_restore: 0\n",
      "  timesteps_total: 8000\n",
      "  training_iteration: 2\n",
      "  trial_id: '27406_00000'\n",
      "  \n"
     ]
    },
    {
     "data": {
      "text/html": [
       "== Status ==<br>Memory usage on this node: 17.6/31.4 GiB<br>Using FIFO scheduling algorithm.<br>Resources requested: 2/8 CPUs, 1/1 GPUs, 0.0/13.57 GiB heap, 0.0/4.69 GiB objects (0/1.0 GPUType:GTX)<br>Result logdir: /home/blackbox/ray_results/PPO<br>Number of trials: 1 (1 RUNNING)<br><table>\n",
       "<thead>\n",
       "<tr><th>Trial name                                     </th><th>status  </th><th>loc               </th><th style=\"text-align: right;\">  iter</th><th style=\"text-align: right;\">  total time (s)</th><th style=\"text-align: right;\">  ts</th><th style=\"text-align: right;\">  reward</th></tr>\n",
       "</thead>\n",
       "<tbody>\n",
       "<tr><td>PPO_MineRLNavigateDenseVectorObf-v0_27406_00000</td><td>RUNNING </td><td>192.168.7.73:45922</td><td style=\"text-align: right;\">     2</td><td style=\"text-align: right;\">         176.955</td><td style=\"text-align: right;\">8000</td><td style=\"text-align: right;\"> 1.73865</td></tr>\n",
       "</tbody>\n",
       "</table><br><br>"
      ],
      "text/plain": [
       "<IPython.core.display.HTML object>"
      ]
     },
     "metadata": {},
     "output_type": "display_data"
    },
    {
     "name": "stdout",
     "output_type": "stream",
     "text": [
      "Result for PPO_MineRLNavigateDenseVectorObf-v0_27406_00000:\n",
      "  custom_metrics: {}\n",
      "  date: 2020-09-27_16-54-09\n",
      "  done: true\n",
      "  episode_len_mean: 6000.0\n",
      "  episode_reward_max: 1.7386474609375\n",
      "  episode_reward_mean: 1.1825065612792969\n",
      "  episode_reward_min: 0.6263656616210938\n",
      "  episodes_this_iter: 1\n",
      "  episodes_total: 2\n",
      "  experiment_id: 5bfaa4612e8f4cfab30958732c510cf7\n",
      "  experiment_tag: '0'\n",
      "  hostname: blackbox\n",
      "  info:\n",
      "    learner:\n",
      "      default_policy:\n",
      "        allreduce_latency: 0.0\n",
      "        cur_kl_coeff: 0.45000000000000007\n",
      "        cur_lr: 5.0e-05\n",
      "        entropy: 90.64632725715637\n",
      "        entropy_coeff: 0.0\n",
      "        kl: 0.014618130109738559\n",
      "        policy_loss: -0.02481837710365653\n",
      "        total_loss: 0.13858625059947371\n",
      "        vf_explained_var: -0.00012756511569023132\n",
      "        vf_loss: 0.15682647447101772\n",
      "    num_steps_sampled: 12000\n",
      "    num_steps_trained: 12000\n",
      "  iterations_since_restore: 3\n",
      "  node_ip: 192.168.7.73\n",
      "  num_healthy_workers: 1\n",
      "  off_policy_estimator: {}\n",
      "  perf:\n",
      "    cpu_util_percent: 30.40309278350516\n",
      "    ram_util_percent: 56.49278350515464\n",
      "  pid: 45922\n",
      "  policy_reward_max: {}\n",
      "  policy_reward_mean: {}\n",
      "  policy_reward_min: {}\n",
      "  sampler_perf:\n",
      "    mean_env_wait_ms: 11.58117292669395\n",
      "    mean_inference_ms: 3.127649419638663\n",
      "    mean_processing_ms: 3.297687042484525\n",
      "  time_since_restore: 244.91088461875916\n",
      "  time_this_iter_s: 67.95590329170227\n",
      "  time_total_s: 244.91088461875916\n",
      "  timers:\n",
      "    learn_throughput: 341.784\n",
      "    learn_time_ms: 11703.299\n",
      "    sample_throughput: 57.215\n",
      "    sample_time_ms: 69911.926\n",
      "    update_time_ms: 9.89\n",
      "  timestamp: 1601250849\n",
      "  timesteps_since_restore: 0\n",
      "  timesteps_total: 12000\n",
      "  training_iteration: 3\n",
      "  trial_id: '27406_00000'\n",
      "  \n"
     ]
    },
    {
     "data": {
      "text/html": [
       "== Status ==<br>Memory usage on this node: 17.4/31.4 GiB<br>Using FIFO scheduling algorithm.<br>Resources requested: 0/8 CPUs, 0/1 GPUs, 0.0/13.57 GiB heap, 0.0/4.69 GiB objects (0/1.0 GPUType:GTX)<br>Result logdir: /home/blackbox/ray_results/PPO<br>Number of trials: 1 (1 TERMINATED)<br><table>\n",
       "<thead>\n",
       "<tr><th>Trial name                                     </th><th>status    </th><th>loc  </th><th style=\"text-align: right;\">  iter</th><th style=\"text-align: right;\">  total time (s)</th><th style=\"text-align: right;\">   ts</th><th style=\"text-align: right;\">  reward</th></tr>\n",
       "</thead>\n",
       "<tbody>\n",
       "<tr><td>PPO_MineRLNavigateDenseVectorObf-v0_27406_00000</td><td>TERMINATED</td><td>     </td><td style=\"text-align: right;\">     3</td><td style=\"text-align: right;\">         244.911</td><td style=\"text-align: right;\">12000</td><td style=\"text-align: right;\"> 1.18251</td></tr>\n",
       "</tbody>\n",
       "</table><br><br>"
      ],
      "text/plain": [
       "<IPython.core.display.HTML object>"
      ]
     },
     "metadata": {},
     "output_type": "display_data"
    },
    {
     "data": {
      "text/html": [
       "== Status ==<br>Memory usage on this node: 16.9/31.4 GiB<br>Using FIFO scheduling algorithm.<br>Resources requested: 0/8 CPUs, 0/1 GPUs, 0.0/13.57 GiB heap, 0.0/4.69 GiB objects (0/1.0 GPUType:GTX)<br>Result logdir: /home/blackbox/ray_results/PPO<br>Number of trials: 1 (1 TERMINATED)<br><table>\n",
       "<thead>\n",
       "<tr><th>Trial name                                     </th><th>status    </th><th>loc  </th><th style=\"text-align: right;\">  iter</th><th style=\"text-align: right;\">  total time (s)</th><th style=\"text-align: right;\">   ts</th><th style=\"text-align: right;\">  reward</th></tr>\n",
       "</thead>\n",
       "<tbody>\n",
       "<tr><td>PPO_MineRLNavigateDenseVectorObf-v0_27406_00000</td><td>TERMINATED</td><td>     </td><td style=\"text-align: right;\">     3</td><td style=\"text-align: right;\">         244.911</td><td style=\"text-align: right;\">12000</td><td style=\"text-align: right;\"> 1.18251</td></tr>\n",
       "</tbody>\n",
       "</table><br><br>"
      ],
      "text/plain": [
       "<IPython.core.display.HTML object>"
      ]
     },
     "metadata": {},
     "output_type": "display_data"
    },
    {
     "data": {
      "text/plain": [
       "<ray.tune.analysis.experiment_analysis.ExperimentAnalysis at 0x7f7dc5f6e050>"
      ]
     },
     "execution_count": 8,
     "metadata": {},
     "output_type": "execute_result"
    }
   ],
   "source": [
    "from ray import tune\n",
    "# https://docs.ray.io/en/latest/rllib-training.html#tuned-examples\n",
    "\n",
    "import ray.rllib.agents.ppo as ppo\n",
    "from ray.rllib.agents.ppo import PPOTrainer\n",
    "# https://docs.ray.io/en/latest/rllib-training.html#tuned-examples\n",
    "# config = ppo.DEFAULT_CONFIG.copy()\n",
    "# config[\"num_gpus\"] = 1\n",
    "# config[\"num_workers\"] = 1\n",
    "# config[\"num_envs_per_worker\"] = 1\n",
    "# config[\"eager\"] = False\n",
    "# trainer = ppo.PPOTrainer(config=config, env=\"MineRLNavigateDenseVectorObf-v0\")\n",
    "\n",
    "\n",
    "tune.run(PPOTrainer,\n",
    "         config={\"env\": \"MineRLNavigateDenseVectorObf-v0\",\n",
    "                 \"num_gpus\": 1,\n",
    "                 \"num_workers\": 1,\n",
    "                 \"num_envs_per_worker\": 1,\n",
    "                 \"eager\": False,\n",
    "                 \"use_pytorch\": True,\n",
    "#                  'monitor':True, \n",
    "#                  \"model\": {\n",
    "#                     \"custom_model\": \"fc_pov\",\n",
    "#                     }\n",
    "                 }\n",
    "         ,stop={\"training_iteration\": 3})  "
   ]
  },
  {
   "cell_type": "code",
   "execution_count": null,
   "metadata": {},
   "outputs": [],
   "source": []
  },
  {
   "cell_type": "code",
   "execution_count": null,
   "metadata": {},
   "outputs": [],
   "source": []
  }
 ],
 "metadata": {
  "kernelspec": {
   "display_name": "Python 3",
   "language": "python",
   "name": "python3"
  },
  "language_info": {
   "codemirror_mode": {
    "name": "ipython",
    "version": 3
   },
   "file_extension": ".py",
   "mimetype": "text/x-python",
   "name": "python",
   "nbconvert_exporter": "python",
   "pygments_lexer": "ipython3",
   "version": "3.7.7"
  }
 },
 "nbformat": 4,
 "nbformat_minor": 4
}
