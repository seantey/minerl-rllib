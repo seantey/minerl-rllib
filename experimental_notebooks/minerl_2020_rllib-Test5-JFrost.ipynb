{
 "cells": [
  {
   "cell_type": "code",
   "execution_count": 1,
   "metadata": {},
   "outputs": [],
   "source": [
    "import gym\n",
    "import ray"
   ]
  },
  {
   "cell_type": "code",
   "execution_count": 2,
   "metadata": {},
   "outputs": [],
   "source": [
    "import numpy as np\n",
    "import torch\n",
    "import torch.optim as optim\n",
    "import torch.nn as nn\n",
    "from torchvision import datasets, transforms\n",
    "from torch.utils.data import DataLoader\n",
    "import torch.nn.functional as F\n",
    "\n",
    "from ray import tune\n",
    "from ray.tune.schedulers import ASHAScheduler"
   ]
  },
  {
   "cell_type": "code",
   "execution_count": 3,
   "metadata": {},
   "outputs": [
    {
     "name": "stderr",
     "output_type": "stream",
     "text": [
      "2020-09-27 15:04:27,282\tINFO resource_spec.py:231 -- Starting Ray with 14.6 GiB memory available for workers and up to 7.32 GiB for objects. You can adjust these settings with ray.init(memory=<bytes>, object_store_memory=<bytes>).\n",
      "2020-09-27 15:04:27,811\tINFO services.py:1193 -- View the Ray dashboard at \u001b[1m\u001b[32mlocalhost:8266\u001b[39m\u001b[22m\n"
     ]
    },
    {
     "data": {
      "text/plain": [
       "{'node_ip_address': '192.168.7.73',\n",
       " 'raylet_ip_address': '192.168.7.73',\n",
       " 'redis_address': '192.168.7.73:43690',\n",
       " 'object_store_address': '/tmp/ray/session_2020-09-27_15-04-27_280893_34064/sockets/plasma_store',\n",
       " 'raylet_socket_name': '/tmp/ray/session_2020-09-27_15-04-27_280893_34064/sockets/raylet',\n",
       " 'webui_url': 'localhost:8266',\n",
       " 'session_dir': '/tmp/ray/session_2020-09-27_15-04-27_280893_34064'}"
      ]
     },
     "execution_count": 3,
     "metadata": {},
     "output_type": "execute_result"
    }
   ],
   "source": [
    "# Initialize Ray\n",
    "ray.shutdown()\n",
    "ray.init(ignore_reinit_error=True,num_cpus=8, num_gpus=1)"
   ]
  },
  {
   "cell_type": "code",
   "execution_count": null,
   "metadata": {},
   "outputs": [],
   "source": [
    "# https://docs.ray.io/en/latest/tune/user-guide.html#parallelism-gpus\n",
    "ray.cluster_resources()"
   ]
  },
  {
   "cell_type": "code",
   "execution_count": 4,
   "metadata": {},
   "outputs": [
    {
     "name": "stdout",
     "output_type": "stream",
     "text": [
      "Dashboard URL: http://localhost:8266\n"
     ]
    }
   ],
   "source": [
    "print(\"Dashboard URL: http://{}\".format(ray.get_webui_url()))"
   ]
  },
  {
   "cell_type": "markdown",
   "metadata": {},
   "source": [
    "### Register MineRL Gym Environment to RLlib"
   ]
  },
  {
   "cell_type": "code",
   "execution_count": 5,
   "metadata": {},
   "outputs": [
    {
     "name": "stderr",
     "output_type": "stream",
     "text": [
      "/home/blackbox/anaconda3/envs/minerl/lib/python3.7/site-packages/gym/logger.py:30: UserWarning: \u001b[33mWARN: Box bound precision lowered by casting to float32\u001b[0m\n",
      "  warnings.warn(colorize('%s: %s'%('WARN', msg % args), 'yellow'))\n"
     ]
    }
   ],
   "source": [
    "from minerl_rllib.envs import register"
   ]
  },
  {
   "cell_type": "code",
   "execution_count": 6,
   "metadata": {},
   "outputs": [
    {
     "name": "stdout",
     "output_type": "stream",
     "text": [
      "Registering Environment Name: MineRLTreechopVectorObf-v0\n",
      "Registering Environment Name: MineRLNavigateVectorObf-v0\n",
      "Registering Environment Name: MineRLNavigateExtremeVectorObf-v0\n",
      "Registering Environment Name: MineRLNavigateDenseVectorObf-v0\n",
      "Registering Environment Name: MineRLNavigateExtremeDenseVectorObf-v0\n",
      "Registering Environment Name: MineRLObtainDiamondVectorObf-v0\n",
      "Registering Environment Name: MineRLObtainDiamondDenseVectorObf-v0\n",
      "Registering Environment Name: MineRLObtainIronPickaxeVectorObf-v0\n",
      "Registering Environment Name: MineRLObtainIronPickaxeDenseVectorObf-v0\n",
      "Registering Environment Name: MineRLObtainDiamondSurvivalVectorObf-v0\n"
     ]
    }
   ],
   "source": [
    "register()"
   ]
  },
  {
   "cell_type": "code",
   "execution_count": null,
   "metadata": {},
   "outputs": [],
   "source": []
  },
  {
   "cell_type": "code",
   "execution_count": null,
   "metadata": {},
   "outputs": [],
   "source": []
  },
  {
   "cell_type": "code",
   "execution_count": 7,
   "metadata": {},
   "outputs": [
    {
     "name": "stdout",
     "output_type": "stream",
     "text": [
      "WARNING:tensorflow:From /home/blackbox/anaconda3/envs/minerl/lib/python3.7/site-packages/tensorflow_core/python/compat/v2_compat.py:68: disable_resource_variables (from tensorflow.python.ops.variable_scope) is deprecated and will be removed in a future version.\n",
      "Instructions for updating:\n",
      "non-resource variables are not supported in the long term\n"
     ]
    },
    {
     "data": {
      "text/html": [
       "== Status ==<br>Memory usage on this node: 9.0/31.4 GiB<br>Using FIFO scheduling algorithm.<br>Resources requested: 2/16 CPUs, 1/1 GPUs, 0.0/14.6 GiB heap, 0.0/5.03 GiB objects (0/1.0 GPUType:GTX)<br>Result logdir: /home/blackbox/ray_results/PPO<br>Number of trials: 1 (1 RUNNING)<br><table>\n",
       "<thead>\n",
       "<tr><th>Trial name                                     </th><th>status  </th><th>loc  </th></tr>\n",
       "</thead>\n",
       "<tbody>\n",
       "<tr><td>PPO_MineRLNavigateDenseVectorObf-v0_6bd8b_00000</td><td>RUNNING </td><td>     </td></tr>\n",
       "</tbody>\n",
       "</table><br><br>"
      ],
      "text/plain": [
       "<IPython.core.display.HTML object>"
      ]
     },
     "metadata": {},
     "output_type": "display_data"
    },
    {
     "name": "stderr",
     "output_type": "stream",
     "text": [
      "\u001b[2m\u001b[36m(pid=34143)\u001b[0m WARNING:tensorflow:From /home/blackbox/anaconda3/envs/minerl/lib/python3.7/site-packages/tensorflow_core/python/compat/v2_compat.py:68: disable_resource_variables (from tensorflow.python.ops.variable_scope) is deprecated and will be removed in a future version.\n",
      "\u001b[2m\u001b[36m(pid=34143)\u001b[0m Instructions for updating:\n",
      "\u001b[2m\u001b[36m(pid=34143)\u001b[0m non-resource variables are not supported in the long term\n",
      "\u001b[2m\u001b[36m(pid=34143)\u001b[0m /home/blackbox/anaconda3/envs/minerl/lib/python3.7/site-packages/gym/logger.py:30: UserWarning: \u001b[33mWARN: Box bound precision lowered by casting to float32\u001b[0m\n",
      "\u001b[2m\u001b[36m(pid=34143)\u001b[0m   warnings.warn(colorize('%s: %s'%('WARN', msg % args), 'yellow'))\n",
      "\u001b[2m\u001b[36m(pid=34143)\u001b[0m 2020-09-27 15:04:34,687\tWARNING deprecation.py:30 -- DeprecationWarning: `use_pytorch` has been deprecated. Use `framework=torch` instead. This will raise an error in the future!\n",
      "\u001b[2m\u001b[36m(pid=34143)\u001b[0m 2020-09-27 15:04:34,687\tWARNING deprecation.py:30 -- DeprecationWarning: `eager` has been deprecated. Use `framework=tfe` instead. This will raise an error in the future!\n",
      "\u001b[2m\u001b[36m(pid=34143)\u001b[0m 2020-09-27 15:04:34,687\tINFO trainer.py:632 -- Current log_level is WARN. For more information, set 'log_level': 'INFO' / 'DEBUG' or use the -v and -vv flags.\n",
      "\u001b[2m\u001b[36m(pid=34143)\u001b[0m 2020-09-27 15:05:09,905\tINFO trainable.py:251 -- Trainable.setup took 36.058 seconds. If your trainable is slow to initialize, consider setting reuse_actors=True to reduce actor creation overheads.\n",
      "\u001b[2m\u001b[36m(pid=34143)\u001b[0m 2020-09-27 15:05:09,905\tWARNING util.py:37 -- Install gputil for GPU system monitoring.\n",
      "\u001b[2m\u001b[36m(pid=34158)\u001b[0m WARNING:tensorflow:From /home/blackbox/anaconda3/envs/minerl/lib/python3.7/site-packages/tensorflow_core/python/compat/v2_compat.py:68: disable_resource_variables (from tensorflow.python.ops.variable_scope) is deprecated and will be removed in a future version.\n",
      "\u001b[2m\u001b[36m(pid=34158)\u001b[0m Instructions for updating:\n",
      "\u001b[2m\u001b[36m(pid=34158)\u001b[0m non-resource variables are not supported in the long term\n",
      "\u001b[2m\u001b[36m(pid=34158)\u001b[0m /home/blackbox/anaconda3/envs/minerl/lib/python3.7/site-packages/gym/logger.py:30: UserWarning: \u001b[33mWARN: Box bound precision lowered by casting to float32\u001b[0m\n",
      "\u001b[2m\u001b[36m(pid=34158)\u001b[0m   warnings.warn(colorize('%s: %s'%('WARN', msg % args), 'yellow'))\n",
      "\u001b[2m\u001b[36m(pid=34158)\u001b[0m /home/blackbox/anaconda3/envs/minerl/lib/python3.7/site-packages/ray/rllib/utils/torch_ops.py:149: UserWarning: The given NumPy array is not writeable, and PyTorch does not support non-writeable tensors. This means you can write to the underlying (supposedly non-writeable) NumPy array using the tensor. You may want to copy the array to protect its data or make it writeable before converting it to a tensor. This type of warning will be suppressed for the rest of this program. (Triggered internally at  /pytorch/torch/csrc/utils/tensor_numpy.cpp:141.)\n",
      "\u001b[2m\u001b[36m(pid=34158)\u001b[0m   tensor = torch.from_numpy(np.asarray(item))\n"
     ]
    },
    {
     "name": "stdout",
     "output_type": "stream",
     "text": [
      "Result for PPO_MineRLNavigateDenseVectorObf-v0_6bd8b_00000:\n",
      "  custom_metrics: {}\n",
      "  date: 2020-09-27_15-06-57\n",
      "  done: false\n",
      "  episode_len_mean: .nan\n",
      "  episode_reward_max: .nan\n",
      "  episode_reward_mean: .nan\n",
      "  episode_reward_min: .nan\n",
      "  episodes_this_iter: 0\n",
      "  episodes_total: 0\n",
      "  experiment_id: d397c7a02cba4717abb3c21fd73a4dd0\n",
      "  experiment_tag: '0'\n",
      "  hostname: blackbox\n",
      "  info:\n",
      "    learner:\n",
      "      default_policy:\n",
      "        allreduce_latency: 0.0\n",
      "        cur_kl_coeff: 0.2\n",
      "        cur_lr: 5.0e-05\n",
      "        entropy: 90.78745532035828\n",
      "        entropy_coeff: 0.0\n",
      "        kl: 0.037070594262331724\n",
      "        policy_loss: -0.07416248507797718\n",
      "        total_loss: 0.20093210937920958\n",
      "        vf_explained_var: 0.02457410655915737\n",
      "        vf_loss: 0.26768047269433737\n",
      "    num_steps_sampled: 4000\n",
      "    num_steps_trained: 4000\n",
      "  iterations_since_restore: 1\n",
      "  node_ip: 192.168.7.73\n",
      "  num_healthy_workers: 1\n",
      "  off_policy_estimator: {}\n",
      "  perf:\n",
      "    cpu_util_percent: 33.69090909090909\n",
      "    ram_util_percent: 56.35064935064935\n",
      "  pid: 34143\n",
      "  policy_reward_max: {}\n",
      "  policy_reward_mean: {}\n",
      "  policy_reward_min: {}\n",
      "  sampler_perf: {}\n",
      "  time_since_restore: 107.32112050056458\n",
      "  time_this_iter_s: 107.32112050056458\n",
      "  time_total_s: 107.32112050056458\n",
      "  timers:\n",
      "    learn_throughput: 341.53\n",
      "    learn_time_ms: 11711.994\n",
      "    sample_throughput: 41.845\n",
      "    sample_time_ms: 95590.971\n",
      "    update_time_ms: 9.366\n",
      "  timestamp: 1601244417\n",
      "  timesteps_since_restore: 0\n",
      "  timesteps_total: 4000\n",
      "  training_iteration: 1\n",
      "  trial_id: 6bd8b_00000\n",
      "  \n"
     ]
    },
    {
     "data": {
      "text/html": [
       "== Status ==<br>Memory usage on this node: 19.3/31.4 GiB<br>Using FIFO scheduling algorithm.<br>Resources requested: 2/16 CPUs, 1/1 GPUs, 0.0/14.6 GiB heap, 0.0/5.03 GiB objects (0/1.0 GPUType:GTX)<br>Result logdir: /home/blackbox/ray_results/PPO<br>Number of trials: 1 (1 RUNNING)<br><table>\n",
       "<thead>\n",
       "<tr><th>Trial name                                     </th><th>status  </th><th>loc               </th><th style=\"text-align: right;\">  iter</th><th style=\"text-align: right;\">  total time (s)</th><th style=\"text-align: right;\">  ts</th><th style=\"text-align: right;\">  reward</th></tr>\n",
       "</thead>\n",
       "<tbody>\n",
       "<tr><td>PPO_MineRLNavigateDenseVectorObf-v0_6bd8b_00000</td><td>RUNNING </td><td>192.168.7.73:34143</td><td style=\"text-align: right;\">     1</td><td style=\"text-align: right;\">         107.321</td><td style=\"text-align: right;\">4000</td><td style=\"text-align: right;\">     nan</td></tr>\n",
       "</tbody>\n",
       "</table><br><br>"
      ],
      "text/plain": [
       "<IPython.core.display.HTML object>"
      ]
     },
     "metadata": {},
     "output_type": "display_data"
    },
    {
     "name": "stderr",
     "output_type": "stream",
     "text": [
      "\u001b[2m\u001b[36m(pid=34158)\u001b[0m /home/blackbox/anaconda3/envs/minerl/lib/python3.7/site-packages/minerl/herobraine/wrappers/obfuscation_wrapper.py:67: RuntimeWarning: invalid value encountered in true_divide\n",
      "\u001b[2m\u001b[36m(pid=34158)\u001b[0m   x[..., a:b] = e_x / e_x.sum(axis=-1)\n"
     ]
    },
    {
     "name": "stdout",
     "output_type": "stream",
     "text": [
      "Result for PPO_MineRLNavigateDenseVectorObf-v0_6bd8b_00000:\n",
      "  custom_metrics: {}\n",
      "  date: 2020-09-27_15-08-13\n",
      "  done: true\n",
      "  episode_len_mean: 6000.0\n",
      "  episode_reward_max: -5.587623596191406\n",
      "  episode_reward_mean: -5.587623596191406\n",
      "  episode_reward_min: -5.587623596191406\n",
      "  episodes_this_iter: 1\n",
      "  episodes_total: 1\n",
      "  experiment_id: d397c7a02cba4717abb3c21fd73a4dd0\n",
      "  experiment_tag: '0'\n",
      "  hostname: blackbox\n",
      "  info:\n",
      "    learner:\n",
      "      default_policy:\n",
      "        allreduce_latency: 0.0\n",
      "        cur_kl_coeff: 0.30000000000000004\n",
      "        cur_lr: 5.0e-05\n",
      "        entropy: 90.86579465866089\n",
      "        entropy_coeff: 0.0\n",
      "        kl: 0.03146955702686682\n",
      "        policy_loss: -0.05248393851798028\n",
      "        total_loss: 0.20206350344233215\n",
      "        vf_explained_var: 0.026143575087189674\n",
      "        vf_loss: 0.2451065699569881\n",
      "    num_steps_sampled: 8000\n",
      "    num_steps_trained: 8000\n",
      "  iterations_since_restore: 2\n",
      "  node_ip: 192.168.7.73\n",
      "  num_healthy_workers: 1\n",
      "  off_policy_estimator: {}\n",
      "  perf:\n",
      "    cpu_util_percent: 28.90555555555555\n",
      "    ram_util_percent: 61.2962962962963\n",
      "  pid: 34143\n",
      "  policy_reward_max: {}\n",
      "  policy_reward_mean: {}\n",
      "  policy_reward_min: {}\n",
      "  sampler_perf:\n",
      "    mean_env_wait_ms: 9.373655916377762\n",
      "    mean_inference_ms: 2.9946404864617904\n",
      "    mean_processing_ms: 3.020041794378211\n",
      "  time_since_restore: 183.12350583076477\n",
      "  time_this_iter_s: 75.8023853302002\n",
      "  time_total_s: 183.12350583076477\n",
      "  timers:\n",
      "    learn_throughput: 346.545\n",
      "    learn_time_ms: 11542.526\n",
      "    sample_throughput: 49.999\n",
      "    sample_time_ms: 80000.965\n",
      "    update_time_ms: 9.319\n",
      "  timestamp: 1601244493\n",
      "  timesteps_since_restore: 0\n",
      "  timesteps_total: 8000\n",
      "  training_iteration: 2\n",
      "  trial_id: 6bd8b_00000\n",
      "  \n"
     ]
    },
    {
     "data": {
      "text/html": [
       "== Status ==<br>Memory usage on this node: 19.3/31.4 GiB<br>Using FIFO scheduling algorithm.<br>Resources requested: 0/16 CPUs, 0/1 GPUs, 0.0/14.6 GiB heap, 0.0/5.03 GiB objects (0/1.0 GPUType:GTX)<br>Result logdir: /home/blackbox/ray_results/PPO<br>Number of trials: 1 (1 TERMINATED)<br><table>\n",
       "<thead>\n",
       "<tr><th>Trial name                                     </th><th>status    </th><th>loc  </th><th style=\"text-align: right;\">  iter</th><th style=\"text-align: right;\">  total time (s)</th><th style=\"text-align: right;\">  ts</th><th style=\"text-align: right;\">  reward</th></tr>\n",
       "</thead>\n",
       "<tbody>\n",
       "<tr><td>PPO_MineRLNavigateDenseVectorObf-v0_6bd8b_00000</td><td>TERMINATED</td><td>     </td><td style=\"text-align: right;\">     2</td><td style=\"text-align: right;\">         183.124</td><td style=\"text-align: right;\">8000</td><td style=\"text-align: right;\">-5.58762</td></tr>\n",
       "</tbody>\n",
       "</table><br><br>"
      ],
      "text/plain": [
       "<IPython.core.display.HTML object>"
      ]
     },
     "metadata": {},
     "output_type": "display_data"
    },
    {
     "data": {
      "text/html": [
       "== Status ==<br>Memory usage on this node: 19.3/31.4 GiB<br>Using FIFO scheduling algorithm.<br>Resources requested: 0/16 CPUs, 0/1 GPUs, 0.0/14.6 GiB heap, 0.0/5.03 GiB objects (0/1.0 GPUType:GTX)<br>Result logdir: /home/blackbox/ray_results/PPO<br>Number of trials: 1 (1 TERMINATED)<br><table>\n",
       "<thead>\n",
       "<tr><th>Trial name                                     </th><th>status    </th><th>loc  </th><th style=\"text-align: right;\">  iter</th><th style=\"text-align: right;\">  total time (s)</th><th style=\"text-align: right;\">  ts</th><th style=\"text-align: right;\">  reward</th></tr>\n",
       "</thead>\n",
       "<tbody>\n",
       "<tr><td>PPO_MineRLNavigateDenseVectorObf-v0_6bd8b_00000</td><td>TERMINATED</td><td>     </td><td style=\"text-align: right;\">     2</td><td style=\"text-align: right;\">         183.124</td><td style=\"text-align: right;\">8000</td><td style=\"text-align: right;\">-5.58762</td></tr>\n",
       "</tbody>\n",
       "</table><br><br>"
      ],
      "text/plain": [
       "<IPython.core.display.HTML object>"
      ]
     },
     "metadata": {},
     "output_type": "display_data"
    },
    {
     "name": "stderr",
     "output_type": "stream",
     "text": [
      "\u001b[2m\u001b[36m(pid=34143)\u001b[0m *** Aborted at 1601244496 (unix time) try \"date -d @1601244496\" if you are using GNU date ***\n",
      "\u001b[2m\u001b[36m(pid=34143)\u001b[0m PC: @                0x0 (unknown)\n",
      "\u001b[2m\u001b[36m(pid=34143)\u001b[0m *** SIGSEGV (@0x7f89817fa9d0) received by PID 34491 (TID 0x7f89a44b6740) from PID 18446744071587211728; stack trace: ***\n",
      "\u001b[2m\u001b[36m(pid=34143)\u001b[0m     @     0x7f89a48273c0 (unknown)\n",
      "\u001b[2m\u001b[36m(pid=34143)\u001b[0m     @     0x7f89a481caab __pthread_clockjoin_ex\n",
      "\u001b[2m\u001b[36m(pid=34143)\u001b[0m     @     0x7f89a23f22d3 std::thread::join()\n"
     ]
    },
    {
     "data": {
      "text/plain": [
       "<ray.tune.analysis.experiment_analysis.ExperimentAnalysis at 0x7fb543daee50>"
      ]
     },
     "execution_count": 7,
     "metadata": {},
     "output_type": "execute_result"
    },
    {
     "name": "stderr",
     "output_type": "stream",
     "text": [
      "\u001b[2m\u001b[36m(pid=34143)\u001b[0m     @     0x7f89a2923493 ray::gcs::GlobalStateAccessor::Disconnect()\n",
      "\u001b[2m\u001b[36m(pid=34143)\u001b[0m     @     0x7f89a27c2fbc __pyx_pw_3ray_7_raylet_19GlobalStateAccessor_5disconnect()\n",
      "\u001b[2m\u001b[36m(pid=34143)\u001b[0m     @     0x55e93d0d9b71 _PyMethodDef_RawFastCallKeywords\n",
      "\u001b[2m\u001b[36m(pid=34143)\u001b[0m     @     0x55e93d0e0aef _PyMethodDescr_FastCallKeywords\n",
      "\u001b[2m\u001b[36m(pid=34143)\u001b[0m     @     0x55e93d14537c _PyEval_EvalFrameDefault\n",
      "\u001b[2m\u001b[36m(pid=34143)\u001b[0m     @     0x55e93d0d920b _PyFunction_FastCallKeywords\n",
      "\u001b[2m\u001b[36m(pid=34143)\u001b[0m     @     0x55e93d140e70 _PyEval_EvalFrameDefault\n",
      "\u001b[2m\u001b[36m(pid=34143)\u001b[0m     @     0x55e93d0892b9 _PyEval_EvalCodeWithName\n",
      "\u001b[2m\u001b[36m(pid=34143)\u001b[0m     @     0x55e93d0d9435 _PyFunction_FastCallKeywords\n",
      "\u001b[2m\u001b[36m(pid=34143)\u001b[0m     @     0x55e93d140be6 _PyEval_EvalFrameDefault\n",
      "\u001b[2m\u001b[36m(pid=34143)\u001b[0m     @     0x55e93d0892b9 _PyEval_EvalCodeWithName\n",
      "\u001b[2m\u001b[36m(pid=34143)\u001b[0m     @     0x55e93d08a3e5 _PyFunction_FastCallDict\n",
      "\u001b[2m\u001b[36m(pid=34143)\u001b[0m     @     0x55e93d0eec70 PyErr_CheckSignals\n",
      "\u001b[2m\u001b[36m(pid=34143)\u001b[0m     @     0x55e93d0fa9c6 time_sleep\n",
      "\u001b[2m\u001b[36m(pid=34143)\u001b[0m     @     0x55e93d0d9abd _PyMethodDef_RawFastCallKeywords\n",
      "\u001b[2m\u001b[36m(pid=34143)\u001b[0m     @     0x55e93d0d9db1 _PyCFunction_FastCallKeywords\n",
      "\u001b[2m\u001b[36m(pid=34143)\u001b[0m     @     0x55e93d1455be _PyEval_EvalFrameDefault\n",
      "\u001b[2m\u001b[36m(pid=34143)\u001b[0m     @     0x55e93d089b00 _PyEval_EvalCodeWithName\n",
      "\u001b[2m\u001b[36m(pid=34143)\u001b[0m     @     0x55e93d08a3e5 _PyFunction_FastCallDict\n",
      "\u001b[2m\u001b[36m(pid=34143)\u001b[0m     @     0x55e93d14251a _PyEval_EvalFrameDefault\n",
      "\u001b[2m\u001b[36m(pid=34143)\u001b[0m     @     0x55e93d0d920b _PyFunction_FastCallKeywords\n",
      "\u001b[2m\u001b[36m(pid=34143)\u001b[0m     @     0x55e93d140e70 _PyEval_EvalFrameDefault\n",
      "\u001b[2m\u001b[36m(pid=34143)\u001b[0m     @     0x55e93d0d920b _PyFunction_FastCallKeywords\n",
      "\u001b[2m\u001b[36m(pid=34143)\u001b[0m     @     0x55e93d140e70 _PyEval_EvalFrameDefault\n",
      "\u001b[2m\u001b[36m(pid=34143)\u001b[0m     @     0x55e93d0d920b _PyFunction_FastCallKeywords\n",
      "\u001b[2m\u001b[36m(pid=34143)\u001b[0m     @     0x55e93d140e70 _PyEval_EvalFrameDefault\n",
      "\u001b[2m\u001b[36m(pid=34143)\u001b[0m     @     0x55e93d08a31b _PyFunction_FastCallDict\n",
      "\u001b[2m\u001b[36m(pid=34143)\u001b[0m     @     0x55e93d0a8b93 _PyObject_Call_Prepend\n",
      "\u001b[2m\u001b[36m(pid=34143)\u001b[0m     @     0x55e93d0e00aa slot_tp_init\n",
      "\u001b[2m\u001b[33m(pid=raylet)\u001b[0m E0927 15:08:16.239792 34117 34117 process.cc:434] Failed to kill process 34158 with error system:3: No such process\n"
     ]
    }
   ],
   "source": [
    "from ray import tune\n",
    "# https://docs.ray.io/en/latest/rllib-training.html#tuned-examples\n",
    "\n",
    "tune.run(\"PPO\",\n",
    "         config={\"env\": \"MineRLNavigateDenseVectorObf-v0\",\n",
    "                 \"num_gpus\": 1,\n",
    "                 \"num_workers\": 1,\n",
    "                 \"num_envs_per_worker\": 1,\n",
    "                 \"eager\": False,\n",
    "                 \"use_pytorch\": True,\n",
    "#                  'monitor':True, \n",
    "#                  \"model\": {\n",
    "#                     \"custom_model\": \"fc_pov\",\n",
    "#                     }\n",
    "                 }\n",
    "         ,stop={\"training_iteration\": 2})  "
   ]
  },
  {
   "cell_type": "code",
   "execution_count": null,
   "metadata": {},
   "outputs": [],
   "source": []
  },
  {
   "cell_type": "code",
   "execution_count": null,
   "metadata": {},
   "outputs": [],
   "source": []
  }
 ],
 "metadata": {
  "kernelspec": {
   "display_name": "Python 3",
   "language": "python",
   "name": "python3"
  },
  "language_info": {
   "codemirror_mode": {
    "name": "ipython",
    "version": 3
   },
   "file_extension": ".py",
   "mimetype": "text/x-python",
   "name": "python",
   "nbconvert_exporter": "python",
   "pygments_lexer": "ipython3",
   "version": "3.7.7"
  }
 },
 "nbformat": 4,
 "nbformat_minor": 4
}
