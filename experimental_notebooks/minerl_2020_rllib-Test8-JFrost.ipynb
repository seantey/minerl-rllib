{
 "cells": [
  {
   "cell_type": "code",
   "execution_count": 1,
   "metadata": {},
   "outputs": [],
   "source": [
    "import gym\n",
    "import ray"
   ]
  },
  {
   "cell_type": "code",
   "execution_count": 2,
   "metadata": {},
   "outputs": [],
   "source": [
    "import numpy as np\n",
    "import torch\n",
    "import torch.optim as optim\n",
    "import torch.nn as nn\n",
    "from torchvision import datasets, transforms\n",
    "from torch.utils.data import DataLoader\n",
    "import torch.nn.functional as F\n",
    "\n",
    "from ray import tune\n",
    "from ray.tune.schedulers import ASHAScheduler"
   ]
  },
  {
   "cell_type": "code",
   "execution_count": 3,
   "metadata": {},
   "outputs": [
    {
     "name": "stderr",
     "output_type": "stream",
     "text": [
      "2020-09-27 21:14:52,746\tINFO resource_spec.py:231 -- Starting Ray with 12.79 GiB memory available for workers and up to 6.4 GiB for objects. You can adjust these settings with ray.init(memory=<bytes>, object_store_memory=<bytes>).\n",
      "2020-09-27 21:14:53,291\tINFO services.py:1193 -- View the Ray dashboard at \u001b[1m\u001b[32mlocalhost:8266\u001b[39m\u001b[22m\n"
     ]
    },
    {
     "data": {
      "text/plain": [
       "{'node_ip_address': '192.168.7.73',\n",
       " 'raylet_ip_address': '192.168.7.73',\n",
       " 'redis_address': '192.168.7.73:36738',\n",
       " 'object_store_address': '/tmp/ray/session_2020-09-27_21-14-52_745012_57185/sockets/plasma_store',\n",
       " 'raylet_socket_name': '/tmp/ray/session_2020-09-27_21-14-52_745012_57185/sockets/raylet',\n",
       " 'webui_url': 'localhost:8266',\n",
       " 'session_dir': '/tmp/ray/session_2020-09-27_21-14-52_745012_57185'}"
      ]
     },
     "execution_count": 3,
     "metadata": {},
     "output_type": "execute_result"
    }
   ],
   "source": [
    "# Initialize Ray\n",
    "ray.shutdown()\n",
    "ray.init(ignore_reinit_error=True,num_cpus=8, num_gpus=1)"
   ]
  },
  {
   "cell_type": "code",
   "execution_count": 4,
   "metadata": {},
   "outputs": [
    {
     "data": {
      "text/plain": [
       "{'object_store_memory': 90.0,\n",
       " 'GPUType:GTX': 1.0,\n",
       " 'CPU': 8.0,\n",
       " 'node:192.168.7.73': 1.0,\n",
       " 'memory': 262.0,\n",
       " 'GPU': 1.0}"
      ]
     },
     "execution_count": 4,
     "metadata": {},
     "output_type": "execute_result"
    }
   ],
   "source": [
    "# https://docs.ray.io/en/latest/tune/user-guide.html#parallelism-gpus\n",
    "ray.cluster_resources()"
   ]
  },
  {
   "cell_type": "code",
   "execution_count": 5,
   "metadata": {},
   "outputs": [
    {
     "name": "stdout",
     "output_type": "stream",
     "text": [
      "Dashboard URL: http://localhost:8266\n"
     ]
    }
   ],
   "source": [
    "print(\"Dashboard URL: http://{}\".format(ray.get_webui_url()))"
   ]
  },
  {
   "cell_type": "markdown",
   "metadata": {},
   "source": [
    "### Register MineRL Gym Environment to RLlib"
   ]
  },
  {
   "cell_type": "code",
   "execution_count": 3,
   "metadata": {},
   "outputs": [],
   "source": [
    "from minerl_rllib.envs import register"
   ]
  },
  {
   "cell_type": "code",
   "execution_count": 4,
   "metadata": {},
   "outputs": [],
   "source": [
    "register()"
   ]
  },
  {
   "cell_type": "markdown",
   "metadata": {},
   "source": [
    "## Example of registering a custom model"
   ]
  },
  {
   "cell_type": "code",
   "execution_count": 6,
   "metadata": {},
   "outputs": [],
   "source": [
    "# Registering a custom model, simple version --> fully connected network\n",
    "# We need this because the default configurations for the model network is\n",
    "# not compatible with the shape of the output from the MineRL environment\n",
    "# The output is a 64 x 64 pixels with RGBA of game play P.O.V. --> shape = (4, 64, 64)\n",
    "\n",
    "# Otherwise we will get:\n",
    "# ValueError: No default configuration for obs shape [4, 64, 64], you must specify \n",
    "# `conv_filters` manually as a model option. Default configurations are only available\n",
    "# for inputs of shape [42, 42, K] and [84, 84, K]. You may alternatively want to use \n",
    "# a custom model or preprocessor.\n",
    "\n",
    "from ray.rllib.models import ModelCatalog\n",
    "from ray.rllib.models.torch.torch_modelv2 import TorchModelV2\n",
    "from ray.rllib.models.torch.fcnet import FullyConnectedNetwork as TorchFC\n",
    "import torch.nn as nn\n",
    "# https://docs.ray.io/en/releases-0.8.5/rllib-examples.html\n",
    "# The register custom env and model links to custom_env.py\n",
    "# https://github.com/ray-project/ray/blob/master/rllib/examples/custom_env.py\n",
    "class TorchCustomModel(TorchModelV2, nn.Module):\n",
    "    \"\"\"Example of a PyTorch custom model that just delegates to a fc-net.\"\"\"\n",
    "\n",
    "    def __init__(self, obs_space, action_space, num_outputs, model_config,\n",
    "                 name):\n",
    "        TorchModelV2.__init__(self, obs_space, action_space, num_outputs,\n",
    "                              model_config, name)\n",
    "        nn.Module.__init__(self)\n",
    "\n",
    "        self.torch_sub_model = TorchFC(obs_space, action_space, num_outputs,\n",
    "                                       model_config, name)\n",
    "\n",
    "    def forward(self, input_dict, state, seq_lens):\n",
    "        input_dict[\"obs\"] = input_dict[\"obs\"].float()\n",
    "        fc_out, _ = self.torch_sub_model(input_dict, state, seq_lens)\n",
    "        return fc_out, []\n",
    "\n",
    "    def value_function(self):\n",
    "        return torch.reshape(self.torch_sub_model.value_function(), [-1])\n"
   ]
  },
  {
   "cell_type": "code",
   "execution_count": 7,
   "metadata": {},
   "outputs": [],
   "source": [
    "ModelCatalog.register_custom_model(\"fc_pov\", TorchCustomModel)"
   ]
  },
  {
   "cell_type": "markdown",
   "metadata": {},
   "source": [
    "## Run training"
   ]
  },
  {
   "cell_type": "code",
   "execution_count": 10,
   "metadata": {},
   "outputs": [
    {
     "data": {
      "text/html": [
       "== Status ==<br>Memory usage on this node: 12.7/31.4 GiB<br>Using FIFO scheduling algorithm.<br>Resources requested: 2/8 CPUs, 1/1 GPUs, 0.0/12.79 GiB heap, 0.0/4.39 GiB objects (0/1.0 GPUType:GTX)<br>Result logdir: /home/blackbox/ray_results/DQN<br>Number of trials: 1 (1 RUNNING)<br><table>\n",
       "<thead>\n",
       "<tr><th>Trial name                                     </th><th>status  </th><th>loc  </th></tr>\n",
       "</thead>\n",
       "<tbody>\n",
       "<tr><td>DQN_MineRLNavigateDenseVectorObf-v0_2b461_00000</td><td>RUNNING </td><td>     </td></tr>\n",
       "</tbody>\n",
       "</table><br><br>"
      ],
      "text/plain": [
       "<IPython.core.display.HTML object>"
      ]
     },
     "metadata": {},
     "output_type": "display_data"
    },
    {
     "name": "stderr",
     "output_type": "stream",
     "text": [
      "\u001b[2m\u001b[36m(pid=57257)\u001b[0m WARNING:tensorflow:From /home/blackbox/anaconda3/envs/minerl/lib/python3.7/site-packages/tensorflow_core/python/compat/v2_compat.py:68: disable_resource_variables (from tensorflow.python.ops.variable_scope) is deprecated and will be removed in a future version.\n",
      "\u001b[2m\u001b[36m(pid=57257)\u001b[0m Instructions for updating:\n",
      "\u001b[2m\u001b[36m(pid=57257)\u001b[0m non-resource variables are not supported in the long term\n",
      "\u001b[2m\u001b[36m(pid=57257)\u001b[0m /home/blackbox/anaconda3/envs/minerl/lib/python3.7/site-packages/gym/logger.py:30: UserWarning: \u001b[33mWARN: Box bound precision lowered by casting to float32\u001b[0m\n",
      "\u001b[2m\u001b[36m(pid=57257)\u001b[0m   warnings.warn(colorize('%s: %s'%('WARN', msg % args), 'yellow'))\n",
      "2020-09-27 21:15:00,442\tERROR trial_runner.py:523 -- Trial DQN_MineRLNavigateDenseVectorObf-v0_2b461_00000: Error processing event.\n",
      "Traceback (most recent call last):\n",
      "  File \"/home/blackbox/anaconda3/envs/minerl/lib/python3.7/site-packages/ray/tune/trial_runner.py\", line 471, in _process_trial\n",
      "    result = self.trial_executor.fetch_result(trial)\n",
      "  File \"/home/blackbox/anaconda3/envs/minerl/lib/python3.7/site-packages/ray/tune/ray_trial_executor.py\", line 430, in fetch_result\n",
      "    result = ray.get(trial_future[0], DEFAULT_GET_TIMEOUT)\n",
      "  File \"/home/blackbox/anaconda3/envs/minerl/lib/python3.7/site-packages/ray/worker.py\", line 1538, in get\n",
      "    raise value.as_instanceof_cause()\n",
      "ray.exceptions.RayTaskError(UnsupportedSpaceException): \u001b[36mray::DQN.train()\u001b[39m (pid=57257, ip=192.168.7.73)\n",
      "  File \"python/ray/_raylet.pyx\", line 439, in ray._raylet.execute_task\n",
      "  File \"python/ray/_raylet.pyx\", line 474, in ray._raylet.execute_task\n",
      "  File \"python/ray/_raylet.pyx\", line 478, in ray._raylet.execute_task\n",
      "  File \"python/ray/_raylet.pyx\", line 479, in ray._raylet.execute_task\n",
      "  File \"python/ray/_raylet.pyx\", line 432, in ray._raylet.execute_task.function_executor\n",
      "  File \"/home/blackbox/anaconda3/envs/minerl/lib/python3.7/site-packages/ray/rllib/agents/trainer_template.py\", line 88, in __init__\n",
      "    Trainer.__init__(self, config, env, logger_creator)\n",
      "  File \"/home/blackbox/anaconda3/envs/minerl/lib/python3.7/site-packages/ray/rllib/agents/trainer.py\", line 479, in __init__\n",
      "    super().__init__(config, logger_creator)\n",
      "  File \"/home/blackbox/anaconda3/envs/minerl/lib/python3.7/site-packages/ray/tune/trainable.py\", line 245, in __init__\n",
      "    self.setup(copy.deepcopy(self.config))\n",
      "  File \"/home/blackbox/anaconda3/envs/minerl/lib/python3.7/site-packages/ray/rllib/agents/trainer.py\", line 643, in setup\n",
      "    self._init(self.config, self.env_creator)\n",
      "  File \"/home/blackbox/anaconda3/envs/minerl/lib/python3.7/site-packages/ray/rllib/agents/trainer_template.py\", line 102, in _init\n",
      "    env_creator, self._policy, config, self.config[\"num_workers\"])\n",
      "  File \"/home/blackbox/anaconda3/envs/minerl/lib/python3.7/site-packages/ray/rllib/agents/trainer.py\", line 713, in _make_workers\n",
      "    logdir=self.logdir)\n",
      "  File \"/home/blackbox/anaconda3/envs/minerl/lib/python3.7/site-packages/ray/rllib/evaluation/worker_set.py\", line 67, in __init__\n",
      "    RolloutWorker, env_creator, policy, 0, self._local_config)\n",
      "  File \"/home/blackbox/anaconda3/envs/minerl/lib/python3.7/site-packages/ray/rllib/evaluation/worker_set.py\", line 296, in _make_worker\n",
      "    extra_python_environs=extra_python_environs)\n",
      "  File \"/home/blackbox/anaconda3/envs/minerl/lib/python3.7/site-packages/ray/rllib/evaluation/rollout_worker.py\", line 406, in __init__\n",
      "    policy_dict, policy_config)\n",
      "  File \"/home/blackbox/anaconda3/envs/minerl/lib/python3.7/site-packages/ray/rllib/evaluation/rollout_worker.py\", line 986, in _build_policy_map\n",
      "    policy_map[name] = cls(obs_space, act_space, merged_conf)\n",
      "  File \"/home/blackbox/anaconda3/envs/minerl/lib/python3.7/site-packages/ray/rllib/policy/torch_policy_template.py\", line 121, in __init__\n",
      "    self, obs_space, action_space, config)\n",
      "  File \"/home/blackbox/anaconda3/envs/minerl/lib/python3.7/site-packages/ray/rllib/agents/dqn/dqn_torch_policy.py\", line 122, in build_q_model_and_distribution\n",
      "    \"Action space {} is not supported for DQN.\".format(action_space))\n",
      "ray.rllib.utils.error.UnsupportedSpaceException: Action space Box(low=-1.0499999523162842, high=1.0499999523162842, shape=(64,)) is not supported for DQN.\n"
     ]
    },
    {
     "data": {
      "text/html": [
       "== Status ==<br>Memory usage on this node: 12.9/31.4 GiB<br>Using FIFO scheduling algorithm.<br>Resources requested: 0/8 CPUs, 0/1 GPUs, 0.0/12.79 GiB heap, 0.0/4.39 GiB objects (0/1.0 GPUType:GTX)<br>Result logdir: /home/blackbox/ray_results/DQN<br>Number of trials: 1 (1 ERROR)<br><table>\n",
       "<thead>\n",
       "<tr><th>Trial name                                     </th><th>status  </th><th>loc  </th></tr>\n",
       "</thead>\n",
       "<tbody>\n",
       "<tr><td>DQN_MineRLNavigateDenseVectorObf-v0_2b461_00000</td><td>ERROR   </td><td>     </td></tr>\n",
       "</tbody>\n",
       "</table><br>Number of errored trials: 1<br><table>\n",
       "<thead>\n",
       "<tr><th>Trial name                                     </th><th style=\"text-align: right;\">  # failures</th><th>error file                                                                                                </th></tr>\n",
       "</thead>\n",
       "<tbody>\n",
       "<tr><td>DQN_MineRLNavigateDenseVectorObf-v0_2b461_00000</td><td style=\"text-align: right;\">           1</td><td>/home/blackbox/ray_results/DQN/DQN_MineRLNavigateDenseVectorObf-v0_0_2020-09-27_21-14-571_cgcmhc/error.txt</td></tr>\n",
       "</tbody>\n",
       "</table><br>"
      ],
      "text/plain": [
       "<IPython.core.display.HTML object>"
      ]
     },
     "metadata": {},
     "output_type": "display_data"
    },
    {
     "name": "stderr",
     "output_type": "stream",
     "text": [
      "\u001b[2m\u001b[36m(pid=57257)\u001b[0m 2020-09-27 21:15:00,424\tWARNING deprecation.py:30 -- DeprecationWarning: `use_pytorch` has been deprecated. Use `framework=torch` instead. This will raise an error in the future!\n",
      "\u001b[2m\u001b[36m(pid=57257)\u001b[0m 2020-09-27 21:15:00,425\tWARNING deprecation.py:30 -- DeprecationWarning: `eager` has been deprecated. Use `framework=tfe` instead. This will raise an error in the future!\n",
      "\u001b[2m\u001b[36m(pid=57257)\u001b[0m 2020-09-27 21:15:00,425\tINFO trainer.py:632 -- Current log_level is WARN. For more information, set 'log_level': 'INFO' / 'DEBUG' or use the -v and -vv flags.\n",
      "\u001b[2m\u001b[36m(pid=57257)\u001b[0m /home/blackbox/anaconda3/envs/minerl/lib/python3.7/site-packages/gym/logger.py:30: UserWarning: \u001b[33mWARN: Trying to monitor an environment which has no 'spec' set. This usually means you did not create it via 'gym.make', and is recommended only for advanced users.\u001b[0m\n",
      "\u001b[2m\u001b[36m(pid=57257)\u001b[0m   warnings.warn(colorize('%s: %s'%('WARN', msg % args), 'yellow'))\n"
     ]
    },
    {
     "ename": "TuneError",
     "evalue": "('Trials did not complete', [DQN_MineRLNavigateDenseVectorObf-v0_2b461_00000])",
     "output_type": "error",
     "traceback": [
      "\u001b[0;31m---------------------------------------------------------------------------\u001b[0m",
      "\u001b[0;31mTuneError\u001b[0m                                 Traceback (most recent call last)",
      "\u001b[0;32m<ipython-input-10-315254745d5d>\u001b[0m in \u001b[0;36m<module>\u001b[0;34m\u001b[0m\n\u001b[1;32m     18\u001b[0m \u001b[0;31m#                     }\u001b[0m\u001b[0;34m\u001b[0m\u001b[0;34m\u001b[0m\u001b[0;34m\u001b[0m\u001b[0m\n\u001b[1;32m     19\u001b[0m                  }\n\u001b[0;32m---> 20\u001b[0;31m          ,stop={\"training_iteration\": 3})  \n\u001b[0m",
      "\u001b[0;32m~/anaconda3/envs/minerl/lib/python3.7/site-packages/ray/tune/tune.py\u001b[0m in \u001b[0;36mrun\u001b[0;34m(run_or_experiment, name, stop, config, resources_per_trial, num_samples, local_dir, upload_dir, trial_name_creator, loggers, sync_to_cloud, sync_to_driver, checkpoint_freq, checkpoint_at_end, sync_on_checkpoint, keep_checkpoints_num, checkpoint_score_attr, global_checkpoint_period, export_formats, max_failures, fail_fast, restore, search_alg, scheduler, with_server, server_port, verbose, progress_reporter, resume, queue_trials, reuse_actors, trial_executor, raise_on_failed_trial, return_trials, ray_auto_init)\u001b[0m\n\u001b[1;32m    354\u001b[0m     \u001b[0;32mif\u001b[0m \u001b[0mincomplete_trials\u001b[0m\u001b[0;34m:\u001b[0m\u001b[0;34m\u001b[0m\u001b[0;34m\u001b[0m\u001b[0m\n\u001b[1;32m    355\u001b[0m         \u001b[0;32mif\u001b[0m \u001b[0mraise_on_failed_trial\u001b[0m\u001b[0;34m:\u001b[0m\u001b[0;34m\u001b[0m\u001b[0;34m\u001b[0m\u001b[0m\n\u001b[0;32m--> 356\u001b[0;31m             \u001b[0;32mraise\u001b[0m \u001b[0mTuneError\u001b[0m\u001b[0;34m(\u001b[0m\u001b[0;34m\"Trials did not complete\"\u001b[0m\u001b[0;34m,\u001b[0m \u001b[0mincomplete_trials\u001b[0m\u001b[0;34m)\u001b[0m\u001b[0;34m\u001b[0m\u001b[0;34m\u001b[0m\u001b[0m\n\u001b[0m\u001b[1;32m    357\u001b[0m         \u001b[0;32melse\u001b[0m\u001b[0;34m:\u001b[0m\u001b[0;34m\u001b[0m\u001b[0;34m\u001b[0m\u001b[0m\n\u001b[1;32m    358\u001b[0m             \u001b[0mlogger\u001b[0m\u001b[0;34m.\u001b[0m\u001b[0merror\u001b[0m\u001b[0;34m(\u001b[0m\u001b[0;34m\"Trials did not complete: %s\"\u001b[0m\u001b[0;34m,\u001b[0m \u001b[0mincomplete_trials\u001b[0m\u001b[0;34m)\u001b[0m\u001b[0;34m\u001b[0m\u001b[0;34m\u001b[0m\u001b[0m\n",
      "\u001b[0;31mTuneError\u001b[0m: ('Trials did not complete', [DQN_MineRLNavigateDenseVectorObf-v0_2b461_00000])"
     ]
    }
   ],
   "source": [
    "from ray import tune\n",
    "# https://docs.ray.io/en/latest/rllib-training.html#tuned-examples\n",
    "\n",
    "import ray.rllib.agents.ppo as ppo\n",
    "from ray.rllib.agents.ppo import PPOTrainer\n",
    "from ray.rllib.agents.dqn import DQNTrainer\n",
    "\n",
    "tune.run(DQNTrainer,\n",
    "         config={\"env\": \"MineRLNavigateDenseVectorObf-v0\",\n",
    "                 \"num_gpus\": 1,\n",
    "                 \"num_workers\": 1,\n",
    "                 \"num_envs_per_worker\": 1,\n",
    "                 \"eager\": False,\n",
    "                 \"use_pytorch\": True,\n",
    "                 'monitor':True, \n",
    "#                  \"model\": {\n",
    "#                     \"custom_model\": \"fc_pov\",\n",
    "#                     }\n",
    "                 }\n",
    "         ,stop={\"training_iteration\": 3})  "
   ]
  },
  {
   "cell_type": "code",
   "execution_count": null,
   "metadata": {},
   "outputs": [],
   "source": []
  },
  {
   "cell_type": "code",
   "execution_count": null,
   "metadata": {},
   "outputs": [],
   "source": []
  }
 ],
 "metadata": {
  "kernelspec": {
   "display_name": "Python 3",
   "language": "python",
   "name": "python3"
  },
  "language_info": {
   "codemirror_mode": {
    "name": "ipython",
    "version": 3
   },
   "file_extension": ".py",
   "mimetype": "text/x-python",
   "name": "python",
   "nbconvert_exporter": "python",
   "pygments_lexer": "ipython3",
   "version": "3.7.0"
  }
 },
 "nbformat": 4,
 "nbformat_minor": 4
}
