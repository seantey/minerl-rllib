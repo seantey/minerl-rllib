{
 "cells": [
  {
   "cell_type": "code",
   "execution_count": 1,
   "metadata": {},
   "outputs": [],
   "source": [
    "import gym\n",
    "import ray"
   ]
  },
  {
   "cell_type": "code",
   "execution_count": 2,
   "metadata": {},
   "outputs": [],
   "source": [
    "import numpy as np\n",
    "import torch\n",
    "import torch.optim as optim\n",
    "import torch.nn as nn\n",
    "from torchvision import datasets, transforms\n",
    "from torch.utils.data import DataLoader\n",
    "import torch.nn.functional as F\n",
    "\n",
    "from ray import tune\n",
    "from ray.tune.schedulers import ASHAScheduler"
   ]
  },
  {
   "cell_type": "code",
   "execution_count": 3,
   "metadata": {},
   "outputs": [
    {
     "name": "stderr",
     "output_type": "stream",
     "text": [
      "2020-09-27 17:08:17,441\tINFO resource_spec.py:231 -- Starting Ray with 13.13 GiB memory available for workers and up to 6.58 GiB for objects. You can adjust these settings with ray.init(memory=<bytes>, object_store_memory=<bytes>).\n",
      "2020-09-27 17:08:17,970\tINFO services.py:1193 -- View the Ray dashboard at \u001b[1m\u001b[32mlocalhost:8269\u001b[39m\u001b[22m\n"
     ]
    },
    {
     "data": {
      "text/plain": [
       "{'node_ip_address': '192.168.7.73',\n",
       " 'raylet_ip_address': '192.168.7.73',\n",
       " 'redis_address': '192.168.7.73:45453',\n",
       " 'object_store_address': '/tmp/ray/session_2020-09-27_17-08-17_440757_49014/sockets/plasma_store',\n",
       " 'raylet_socket_name': '/tmp/ray/session_2020-09-27_17-08-17_440757_49014/sockets/raylet',\n",
       " 'webui_url': 'localhost:8269',\n",
       " 'session_dir': '/tmp/ray/session_2020-09-27_17-08-17_440757_49014'}"
      ]
     },
     "execution_count": 3,
     "metadata": {},
     "output_type": "execute_result"
    }
   ],
   "source": [
    "# Initialize Ray\n",
    "ray.shutdown()\n",
    "ray.init(ignore_reinit_error=True,num_cpus=8, num_gpus=1)"
   ]
  },
  {
   "cell_type": "code",
   "execution_count": 4,
   "metadata": {},
   "outputs": [
    {
     "data": {
      "text/plain": [
       "{'node:192.168.7.73': 1.0,\n",
       " 'GPUType:GTX': 1.0,\n",
       " 'CPU': 8.0,\n",
       " 'GPU': 1.0,\n",
       " 'memory': 269.0,\n",
       " 'object_store_memory': 92.0}"
      ]
     },
     "execution_count": 4,
     "metadata": {},
     "output_type": "execute_result"
    }
   ],
   "source": [
    "# https://docs.ray.io/en/latest/tune/user-guide.html#parallelism-gpus\n",
    "ray.cluster_resources()"
   ]
  },
  {
   "cell_type": "code",
   "execution_count": 5,
   "metadata": {},
   "outputs": [
    {
     "name": "stdout",
     "output_type": "stream",
     "text": [
      "Dashboard URL: http://localhost:8269\n"
     ]
    }
   ],
   "source": [
    "print(\"Dashboard URL: http://{}\".format(ray.get_webui_url()))"
   ]
  },
  {
   "cell_type": "markdown",
   "metadata": {},
   "source": [
    "### Register MineRL Gym Environment to RLlib"
   ]
  },
  {
   "cell_type": "code",
   "execution_count": 6,
   "metadata": {},
   "outputs": [
    {
     "name": "stderr",
     "output_type": "stream",
     "text": [
      "/home/blackbox/anaconda3/envs/minerl/lib/python3.7/site-packages/gym/logger.py:30: UserWarning: \u001b[33mWARN: Box bound precision lowered by casting to float32\u001b[0m\n",
      "  warnings.warn(colorize('%s: %s'%('WARN', msg % args), 'yellow'))\n"
     ]
    }
   ],
   "source": [
    "from minerl_rllib.envs import register"
   ]
  },
  {
   "cell_type": "code",
   "execution_count": 7,
   "metadata": {},
   "outputs": [],
   "source": [
    "register()"
   ]
  },
  {
   "cell_type": "markdown",
   "metadata": {},
   "source": [
    "## Example of registering a custom model"
   ]
  },
  {
   "cell_type": "code",
   "execution_count": 8,
   "metadata": {},
   "outputs": [
    {
     "name": "stdout",
     "output_type": "stream",
     "text": [
      "WARNING:tensorflow:From /home/blackbox/anaconda3/envs/minerl/lib/python3.7/site-packages/tensorflow_core/python/compat/v2_compat.py:68: disable_resource_variables (from tensorflow.python.ops.variable_scope) is deprecated and will be removed in a future version.\n",
      "Instructions for updating:\n",
      "non-resource variables are not supported in the long term\n"
     ]
    }
   ],
   "source": [
    "# Registering a custom model, simple version --> fully connected network\n",
    "# We need this because the default configurations for the model network is\n",
    "# not compatible with the shape of the output from the MineRL environment\n",
    "# The output is a 64 x 64 pixels with RGBA of game play P.O.V. --> shape = (4, 64, 64)\n",
    "\n",
    "# Otherwise we will get:\n",
    "# ValueError: No default configuration for obs shape [4, 64, 64], you must specify \n",
    "# `conv_filters` manually as a model option. Default configurations are only available\n",
    "# for inputs of shape [42, 42, K] and [84, 84, K]. You may alternatively want to use \n",
    "# a custom model or preprocessor.\n",
    "\n",
    "from ray.rllib.models import ModelCatalog\n",
    "from ray.rllib.models.torch.torch_modelv2 import TorchModelV2\n",
    "from ray.rllib.models.torch.fcnet import FullyConnectedNetwork as TorchFC\n",
    "\n",
    "# https://docs.ray.io/en/releases-0.8.5/rllib-examples.html\n",
    "# The register custom env and model links to custom_env.py\n",
    "# https://github.com/ray-project/ray/blob/master/rllib/examples/custom_env.py\n",
    "class TorchCustomModel(TorchModelV2, nn.Module):\n",
    "    \"\"\"Example of a PyTorch custom model that just delegates to a fc-net.\"\"\"\n",
    "\n",
    "    def __init__(self, obs_space, action_space, num_outputs, model_config,\n",
    "                 name):\n",
    "        TorchModelV2.__init__(self, obs_space, action_space, num_outputs,\n",
    "                              model_config, name)\n",
    "        nn.Module.__init__(self)\n",
    "\n",
    "        self.torch_sub_model = TorchFC(obs_space, action_space, num_outputs,\n",
    "                                       model_config, name)\n",
    "\n",
    "    def forward(self, input_dict, state, seq_lens):\n",
    "        input_dict[\"obs\"] = input_dict[\"obs\"].float()\n",
    "        fc_out, _ = self.torch_sub_model(input_dict, state, seq_lens)\n",
    "        return fc_out, []\n",
    "\n",
    "    def value_function(self):\n",
    "        return torch.reshape(self.torch_sub_model.value_function(), [-1])\n"
   ]
  },
  {
   "cell_type": "code",
   "execution_count": 9,
   "metadata": {},
   "outputs": [],
   "source": [
    "ModelCatalog.register_custom_model(\"fc_pov\", TorchCustomModel)"
   ]
  },
  {
   "cell_type": "markdown",
   "metadata": {},
   "source": [
    "## Run training"
   ]
  },
  {
   "cell_type": "code",
   "execution_count": 10,
   "metadata": {},
   "outputs": [
    {
     "data": {
      "text/html": [
       "== Status ==<br>Memory usage on this node: 12.1/31.4 GiB<br>Using FIFO scheduling algorithm.<br>Resources requested: 2/8 CPUs, 1/1 GPUs, 0.0/13.13 GiB heap, 0.0/4.49 GiB objects (0/1.0 GPUType:GTX)<br>Result logdir: /home/blackbox/ray_results/PPO<br>Number of trials: 1 (1 RUNNING)<br><table>\n",
       "<thead>\n",
       "<tr><th>Trial name                                     </th><th>status  </th><th>loc  </th></tr>\n",
       "</thead>\n",
       "<tbody>\n",
       "<tr><td>PPO_MineRLNavigateDenseVectorObf-v0_b8415_00000</td><td>RUNNING </td><td>     </td></tr>\n",
       "</tbody>\n",
       "</table><br><br>"
      ],
      "text/plain": [
       "<IPython.core.display.HTML object>"
      ]
     },
     "metadata": {},
     "output_type": "display_data"
    },
    {
     "name": "stderr",
     "output_type": "stream",
     "text": [
      "\u001b[2m\u001b[36m(pid=49089)\u001b[0m WARNING:tensorflow:From /home/blackbox/anaconda3/envs/minerl/lib/python3.7/site-packages/tensorflow_core/python/compat/v2_compat.py:68: disable_resource_variables (from tensorflow.python.ops.variable_scope) is deprecated and will be removed in a future version.\n",
      "\u001b[2m\u001b[36m(pid=49089)\u001b[0m Instructions for updating:\n",
      "\u001b[2m\u001b[36m(pid=49089)\u001b[0m non-resource variables are not supported in the long term\n",
      "\u001b[2m\u001b[36m(pid=49089)\u001b[0m /home/blackbox/anaconda3/envs/minerl/lib/python3.7/site-packages/gym/logger.py:30: UserWarning: \u001b[33mWARN: Box bound precision lowered by casting to float32\u001b[0m\n",
      "\u001b[2m\u001b[36m(pid=49089)\u001b[0m   warnings.warn(colorize('%s: %s'%('WARN', msg % args), 'yellow'))\n",
      "\u001b[2m\u001b[36m(pid=49089)\u001b[0m 2020-09-27 17:08:24,419\tWARNING deprecation.py:30 -- DeprecationWarning: `use_pytorch` has been deprecated. Use `framework=torch` instead. This will raise an error in the future!\n",
      "\u001b[2m\u001b[36m(pid=49089)\u001b[0m 2020-09-27 17:08:24,419\tWARNING deprecation.py:30 -- DeprecationWarning: `eager` has been deprecated. Use `framework=tfe` instead. This will raise an error in the future!\n",
      "\u001b[2m\u001b[36m(pid=49089)\u001b[0m 2020-09-27 17:08:24,419\tINFO trainer.py:632 -- Current log_level is WARN. For more information, set 'log_level': 'INFO' / 'DEBUG' or use the -v and -vv flags.\n",
      "\u001b[2m\u001b[36m(pid=49089)\u001b[0m /home/blackbox/anaconda3/envs/minerl/lib/python3.7/site-packages/gym/logger.py:30: UserWarning: \u001b[33mWARN: Trying to monitor an environment which has no 'spec' set. This usually means you did not create it via 'gym.make', and is recommended only for advanced users.\u001b[0m\n",
      "\u001b[2m\u001b[36m(pid=49089)\u001b[0m   warnings.warn(colorize('%s: %s'%('WARN', msg % args), 'yellow'))\n",
      "\u001b[2m\u001b[36m(pid=49089)\u001b[0m 2020-09-27 17:08:26,553\tWARNING util.py:37 -- Install gputil for GPU system monitoring.\n",
      "\u001b[2m\u001b[36m(pid=49090)\u001b[0m WARNING:tensorflow:From /home/blackbox/anaconda3/envs/minerl/lib/python3.7/site-packages/tensorflow_core/python/compat/v2_compat.py:68: disable_resource_variables (from tensorflow.python.ops.variable_scope) is deprecated and will be removed in a future version.\n",
      "\u001b[2m\u001b[36m(pid=49090)\u001b[0m Instructions for updating:\n",
      "\u001b[2m\u001b[36m(pid=49090)\u001b[0m non-resource variables are not supported in the long term\n",
      "\u001b[2m\u001b[36m(pid=49090)\u001b[0m /home/blackbox/anaconda3/envs/minerl/lib/python3.7/site-packages/gym/logger.py:30: UserWarning: \u001b[33mWARN: Box bound precision lowered by casting to float32\u001b[0m\n",
      "\u001b[2m\u001b[36m(pid=49090)\u001b[0m   warnings.warn(colorize('%s: %s'%('WARN', msg % args), 'yellow'))\n",
      "\u001b[2m\u001b[36m(pid=49090)\u001b[0m /home/blackbox/anaconda3/envs/minerl/lib/python3.7/site-packages/gym/logger.py:30: UserWarning: \u001b[33mWARN: Trying to monitor an environment which has no 'spec' set. This usually means you did not create it via 'gym.make', and is recommended only for advanced users.\u001b[0m\n",
      "\u001b[2m\u001b[36m(pid=49090)\u001b[0m   warnings.warn(colorize('%s: %s'%('WARN', msg % args), 'yellow'))\n",
      "\u001b[2m\u001b[36m(pid=49090)\u001b[0m /home/blackbox/anaconda3/envs/minerl/lib/python3.7/site-packages/ray/rllib/utils/torch_ops.py:149: UserWarning: The given NumPy array is not writeable, and PyTorch does not support non-writeable tensors. This means you can write to the underlying (supposedly non-writeable) NumPy array using the tensor. You may want to copy the array to protect its data or make it writeable before converting it to a tensor. This type of warning will be suppressed for the rest of this program. (Triggered internally at  /pytorch/torch/csrc/utils/tensor_numpy.cpp:141.)\n",
      "\u001b[2m\u001b[36m(pid=49090)\u001b[0m   tensor = torch.from_numpy(np.asarray(item))\n",
      "\u001b[2m\u001b[36m(pid=49090)\u001b[0m /home/blackbox/anaconda3/envs/minerl/lib/python3.7/site-packages/minerl/herobraine/wrappers/obfuscation_wrapper.py:67: RuntimeWarning: invalid value encountered in true_divide\n",
      "\u001b[2m\u001b[36m(pid=49090)\u001b[0m   x[..., a:b] = e_x / e_x.sum(axis=-1)\n"
     ]
    },
    {
     "name": "stdout",
     "output_type": "stream",
     "text": [
      "Result for PPO_MineRLNavigateDenseVectorObf-v0_b8415_00000:\n",
      "  custom_metrics: {}\n",
      "  date: 2020-09-27_17-10-11\n",
      "  done: false\n",
      "  episode_len_mean: .nan\n",
      "  episode_reward_max: .nan\n",
      "  episode_reward_mean: .nan\n",
      "  episode_reward_min: .nan\n",
      "  episodes_this_iter: 0\n",
      "  episodes_total: 0\n",
      "  experiment_id: 24e4d9647e6b43e78da8476d3abdcbc8\n",
      "  experiment_tag: '0'\n",
      "  hostname: blackbox\n",
      "  info:\n",
      "    learner:\n",
      "      default_policy:\n",
      "        allreduce_latency: 0.0\n",
      "        cur_kl_coeff: 0.2\n",
      "        cur_lr: 5.0e-05\n",
      "        entropy: 90.72712445259094\n",
      "        entropy_coeff: 0.0\n",
      "        kl: 0.01840121901477687\n",
      "        policy_loss: -0.02523390165879391\n",
      "        total_loss: 0.2114511642139405\n",
      "        vf_explained_var: 0.0006016697734594345\n",
      "        vf_loss: 0.2330048200674355\n",
      "    num_steps_sampled: 4000\n",
      "    num_steps_trained: 4000\n",
      "  iterations_since_restore: 1\n",
      "  node_ip: 192.168.7.73\n",
      "  num_healthy_workers: 1\n",
      "  off_policy_estimator: {}\n",
      "  perf:\n",
      "    cpu_util_percent: 39.44\n",
      "    ram_util_percent: 54.817333333333345\n",
      "  pid: 49089\n",
      "  policy_reward_max: {}\n",
      "  policy_reward_mean: {}\n",
      "  policy_reward_min: {}\n",
      "  sampler_perf: {}\n",
      "  time_since_restore: 104.74415826797485\n",
      "  time_this_iter_s: 104.74415826797485\n",
      "  time_total_s: 104.74415826797485\n",
      "  timers:\n",
      "    learn_throughput: 330.844\n",
      "    learn_time_ms: 12090.307\n",
      "    sample_throughput: 43.184\n",
      "    sample_time_ms: 92626.926\n",
      "    update_time_ms: 10.044\n",
      "  timestamp: 1601251811\n",
      "  timesteps_since_restore: 0\n",
      "  timesteps_total: 4000\n",
      "  training_iteration: 1\n",
      "  trial_id: b8415_00000\n",
      "  \n"
     ]
    },
    {
     "data": {
      "text/html": [
       "== Status ==<br>Memory usage on this node: 18.8/31.4 GiB<br>Using FIFO scheduling algorithm.<br>Resources requested: 2/8 CPUs, 1/1 GPUs, 0.0/13.13 GiB heap, 0.0/4.49 GiB objects (0/1.0 GPUType:GTX)<br>Result logdir: /home/blackbox/ray_results/PPO<br>Number of trials: 1 (1 RUNNING)<br><table>\n",
       "<thead>\n",
       "<tr><th>Trial name                                     </th><th>status  </th><th>loc               </th><th style=\"text-align: right;\">  iter</th><th style=\"text-align: right;\">  total time (s)</th><th style=\"text-align: right;\">  ts</th><th style=\"text-align: right;\">  reward</th></tr>\n",
       "</thead>\n",
       "<tbody>\n",
       "<tr><td>PPO_MineRLNavigateDenseVectorObf-v0_b8415_00000</td><td>RUNNING </td><td>192.168.7.73:49089</td><td style=\"text-align: right;\">     1</td><td style=\"text-align: right;\">         104.744</td><td style=\"text-align: right;\">4000</td><td style=\"text-align: right;\">     nan</td></tr>\n",
       "</tbody>\n",
       "</table><br><br>"
      ],
      "text/plain": [
       "<IPython.core.display.HTML object>"
      ]
     },
     "metadata": {},
     "output_type": "display_data"
    },
    {
     "name": "stdout",
     "output_type": "stream",
     "text": [
      "Result for PPO_MineRLNavigateDenseVectorObf-v0_b8415_00000:\n",
      "  custom_metrics: {}\n",
      "  date: 2020-09-27_17-11-26\n",
      "  done: false\n",
      "  episode_len_mean: 6000.0\n",
      "  episode_reward_max: -9.173072814941406\n",
      "  episode_reward_mean: -9.173072814941406\n",
      "  episode_reward_min: -9.173072814941406\n",
      "  episodes_this_iter: 1\n",
      "  episodes_total: 1\n",
      "  experiment_id: 24e4d9647e6b43e78da8476d3abdcbc8\n",
      "  experiment_tag: '0'\n",
      "  hostname: blackbox\n",
      "  info:\n",
      "    learner:\n",
      "      default_policy:\n",
      "        allreduce_latency: 0.0\n",
      "        cur_kl_coeff: 0.2\n",
      "        cur_lr: 5.0e-05\n",
      "        entropy: 90.82395577430725\n",
      "        entropy_coeff: 0.0\n",
      "        kl: 0.019408520980505273\n",
      "        policy_loss: -0.023212998756207526\n",
      "        total_loss: 0.22844246472232044\n",
      "        vf_explained_var: 0.00020822696387767792\n",
      "        vf_loss: 0.2477737539447844\n",
      "    num_steps_sampled: 8000\n",
      "    num_steps_trained: 8000\n",
      "  iterations_since_restore: 2\n",
      "  node_ip: 192.168.7.73\n",
      "  num_healthy_workers: 1\n",
      "  off_policy_estimator: {}\n",
      "  perf:\n",
      "    cpu_util_percent: 34.306542056074775\n",
      "    ram_util_percent: 60.00280373831775\n",
      "  pid: 49089\n",
      "  policy_reward_max: {}\n",
      "  policy_reward_mean: {}\n",
      "  policy_reward_min: {}\n",
      "  sampler_perf:\n",
      "    mean_env_wait_ms: 12.720167331435713\n",
      "    mean_inference_ms: 3.240618492987525\n",
      "    mean_processing_ms: 3.0905977515425778\n",
      "  time_since_restore: 180.0418040752411\n",
      "  time_this_iter_s: 75.29764580726624\n",
      "  time_total_s: 180.0418040752411\n",
      "  timers:\n",
      "    learn_throughput: 330.332\n",
      "    learn_time_ms: 12109.016\n",
      "    sample_throughput: 51.355\n",
      "    sample_time_ms: 77888.497\n",
      "    update_time_ms: 10.064\n",
      "  timestamp: 1601251886\n",
      "  timesteps_since_restore: 0\n",
      "  timesteps_total: 8000\n",
      "  training_iteration: 2\n",
      "  trial_id: b8415_00000\n",
      "  \n"
     ]
    },
    {
     "data": {
      "text/html": [
       "== Status ==<br>Memory usage on this node: 18.9/31.4 GiB<br>Using FIFO scheduling algorithm.<br>Resources requested: 2/8 CPUs, 1/1 GPUs, 0.0/13.13 GiB heap, 0.0/4.49 GiB objects (0/1.0 GPUType:GTX)<br>Result logdir: /home/blackbox/ray_results/PPO<br>Number of trials: 1 (1 RUNNING)<br><table>\n",
       "<thead>\n",
       "<tr><th>Trial name                                     </th><th>status  </th><th>loc               </th><th style=\"text-align: right;\">  iter</th><th style=\"text-align: right;\">  total time (s)</th><th style=\"text-align: right;\">  ts</th><th style=\"text-align: right;\">  reward</th></tr>\n",
       "</thead>\n",
       "<tbody>\n",
       "<tr><td>PPO_MineRLNavigateDenseVectorObf-v0_b8415_00000</td><td>RUNNING </td><td>192.168.7.73:49089</td><td style=\"text-align: right;\">     2</td><td style=\"text-align: right;\">         180.042</td><td style=\"text-align: right;\">8000</td><td style=\"text-align: right;\">-9.17307</td></tr>\n",
       "</tbody>\n",
       "</table><br><br>"
      ],
      "text/plain": [
       "<IPython.core.display.HTML object>"
      ]
     },
     "metadata": {},
     "output_type": "display_data"
    },
    {
     "name": "stdout",
     "output_type": "stream",
     "text": [
      "Result for PPO_MineRLNavigateDenseVectorObf-v0_b8415_00000:\n",
      "  custom_metrics: {}\n",
      "  date: 2020-09-27_17-12-39\n",
      "  done: true\n",
      "  episode_len_mean: 6000.0\n",
      "  episode_reward_max: 6.425428867340088\n",
      "  episode_reward_mean: -1.3738219738006592\n",
      "  episode_reward_min: -9.173072814941406\n",
      "  episodes_this_iter: 1\n",
      "  episodes_total: 2\n",
      "  experiment_id: 24e4d9647e6b43e78da8476d3abdcbc8\n",
      "  experiment_tag: '0'\n",
      "  hostname: blackbox\n",
      "  info:\n",
      "    learner:\n",
      "      default_policy:\n",
      "        allreduce_latency: 0.0\n",
      "        cur_kl_coeff: 0.2\n",
      "        cur_lr: 5.0e-05\n",
      "        entropy: 90.83398461341858\n",
      "        entropy_coeff: 0.0\n",
      "        kl: 0.02367725333897397\n",
      "        policy_loss: -0.026379756396636367\n",
      "        total_loss: 0.20250490598846227\n",
      "        vf_explained_var: 0.00019955821335315704\n",
      "        vf_loss: 0.2241492117755115\n",
      "    num_steps_sampled: 12000\n",
      "    num_steps_trained: 12000\n",
      "  iterations_since_restore: 3\n",
      "  node_ip: 192.168.7.73\n",
      "  num_healthy_workers: 1\n",
      "  off_policy_estimator: {}\n",
      "  perf:\n",
      "    cpu_util_percent: 32.41809523809524\n",
      "    ram_util_percent: 60.357142857142854\n",
      "  pid: 49089\n",
      "  policy_reward_max: {}\n",
      "  policy_reward_mean: {}\n",
      "  policy_reward_min: {}\n",
      "  sampler_perf:\n",
      "    mean_env_wait_ms: 11.711476910975907\n",
      "    mean_inference_ms: 3.224011018532753\n",
      "    mean_processing_ms: 3.471069769095486\n",
      "  time_since_restore: 253.00900602340698\n",
      "  time_this_iter_s: 72.9672019481659\n",
      "  time_total_s: 253.00900602340698\n",
      "  timers:\n",
      "    learn_throughput: 331.525\n",
      "    learn_time_ms: 12065.46\n",
      "    sample_throughput: 55.364\n",
      "    sample_time_ms: 72248.576\n",
      "    update_time_ms: 9.941\n",
      "  timestamp: 1601251959\n",
      "  timesteps_since_restore: 0\n",
      "  timesteps_total: 12000\n",
      "  training_iteration: 3\n",
      "  trial_id: b8415_00000\n",
      "  \n"
     ]
    },
    {
     "data": {
      "text/html": [
       "== Status ==<br>Memory usage on this node: 18.8/31.4 GiB<br>Using FIFO scheduling algorithm.<br>Resources requested: 0/8 CPUs, 0/1 GPUs, 0.0/13.13 GiB heap, 0.0/4.49 GiB objects (0/1.0 GPUType:GTX)<br>Result logdir: /home/blackbox/ray_results/PPO<br>Number of trials: 1 (1 TERMINATED)<br><table>\n",
       "<thead>\n",
       "<tr><th>Trial name                                     </th><th>status    </th><th>loc  </th><th style=\"text-align: right;\">  iter</th><th style=\"text-align: right;\">  total time (s)</th><th style=\"text-align: right;\">   ts</th><th style=\"text-align: right;\">  reward</th></tr>\n",
       "</thead>\n",
       "<tbody>\n",
       "<tr><td>PPO_MineRLNavigateDenseVectorObf-v0_b8415_00000</td><td>TERMINATED</td><td>     </td><td style=\"text-align: right;\">     3</td><td style=\"text-align: right;\">         253.009</td><td style=\"text-align: right;\">12000</td><td style=\"text-align: right;\">-1.37382</td></tr>\n",
       "</tbody>\n",
       "</table><br><br>"
      ],
      "text/plain": [
       "<IPython.core.display.HTML object>"
      ]
     },
     "metadata": {},
     "output_type": "display_data"
    },
    {
     "data": {
      "text/html": [
       "== Status ==<br>Memory usage on this node: 18.8/31.4 GiB<br>Using FIFO scheduling algorithm.<br>Resources requested: 0/8 CPUs, 0/1 GPUs, 0.0/13.13 GiB heap, 0.0/4.49 GiB objects (0/1.0 GPUType:GTX)<br>Result logdir: /home/blackbox/ray_results/PPO<br>Number of trials: 1 (1 TERMINATED)<br><table>\n",
       "<thead>\n",
       "<tr><th>Trial name                                     </th><th>status    </th><th>loc  </th><th style=\"text-align: right;\">  iter</th><th style=\"text-align: right;\">  total time (s)</th><th style=\"text-align: right;\">   ts</th><th style=\"text-align: right;\">  reward</th></tr>\n",
       "</thead>\n",
       "<tbody>\n",
       "<tr><td>PPO_MineRLNavigateDenseVectorObf-v0_b8415_00000</td><td>TERMINATED</td><td>     </td><td style=\"text-align: right;\">     3</td><td style=\"text-align: right;\">         253.009</td><td style=\"text-align: right;\">12000</td><td style=\"text-align: right;\">-1.37382</td></tr>\n",
       "</tbody>\n",
       "</table><br><br>"
      ],
      "text/plain": [
       "<IPython.core.display.HTML object>"
      ]
     },
     "metadata": {},
     "output_type": "display_data"
    },
    {
     "data": {
      "text/plain": [
       "<ray.tune.analysis.experiment_analysis.ExperimentAnalysis at 0x7f232aebef90>"
      ]
     },
     "execution_count": 10,
     "metadata": {},
     "output_type": "execute_result"
    },
    {
     "name": "stderr",
     "output_type": "stream",
     "text": [
      "\u001b[2m\u001b[36m(pid=49090)\u001b[0m *** Aborted at 1601251962 (unix time) try \"date -d @1601251962\" if you are using GNU date ***\n",
      "\u001b[2m\u001b[36m(pid=49090)\u001b[0m PC: @                0x0 (unknown)\n",
      "\u001b[2m\u001b[36m(pid=49090)\u001b[0m *** SIGSEGV (@0x7ff06963c9d0) received by PID 49320 (TID 0x7ff238974740) from PID 1768147408; stack trace: ***\n",
      "\u001b[2m\u001b[36m(pid=49090)\u001b[0m     @     0x7ff238ce53c0 (unknown)\n",
      "\u001b[2m\u001b[36m(pid=49090)\u001b[0m     @     0x7ff238cdaaab __pthread_clockjoin_ex\n",
      "\u001b[2m\u001b[36m(pid=49090)\u001b[0m     @     0x7ff2368b02d3 std::thread::join()\n",
      "\u001b[2m\u001b[36m(pid=49090)\u001b[0m     @     0x7ff236de1493 ray::gcs::GlobalStateAccessor::Disconnect()\n",
      "\u001b[2m\u001b[36m(pid=49090)\u001b[0m     @     0x7ff236c80fbc __pyx_pw_3ray_7_raylet_19GlobalStateAccessor_5disconnect()\n",
      "\u001b[2m\u001b[36m(pid=49090)\u001b[0m     @     0x55f0600bfb71 _PyMethodDef_RawFastCallKeywords\n",
      "\u001b[2m\u001b[36m(pid=49090)\u001b[0m     @     0x55f0600c6aef _PyMethodDescr_FastCallKeywords\n",
      "\u001b[2m\u001b[36m(pid=49090)\u001b[0m     @     0x55f06012b37c _PyEval_EvalFrameDefault\n",
      "\u001b[2m\u001b[36m(pid=49090)\u001b[0m     @     0x55f0600bf20b _PyFunction_FastCallKeywords\n",
      "\u001b[2m\u001b[36m(pid=49090)\u001b[0m     @     0x55f060126e70 _PyEval_EvalFrameDefault\n",
      "\u001b[2m\u001b[36m(pid=49090)\u001b[0m     @     0x55f06006f2b9 _PyEval_EvalCodeWithName\n",
      "\u001b[2m\u001b[36m(pid=49090)\u001b[0m     @     0x55f0600bf435 _PyFunction_FastCallKeywords\n",
      "\u001b[2m\u001b[36m(pid=49090)\u001b[0m     @     0x55f060126be6 _PyEval_EvalFrameDefault\n",
      "\u001b[2m\u001b[36m(pid=49090)\u001b[0m     @     0x55f06006f2b9 _PyEval_EvalCodeWithName\n",
      "\u001b[2m\u001b[36m(pid=49090)\u001b[0m     @     0x55f0600703e5 _PyFunction_FastCallDict\n",
      "\u001b[2m\u001b[36m(pid=49090)\u001b[0m     @     0x55f0600d4c70 PyErr_CheckSignals\n",
      "\u001b[2m\u001b[36m(pid=49090)\u001b[0m     @     0x55f0600e09c6 time_sleep\n",
      "\u001b[2m\u001b[36m(pid=49090)\u001b[0m     @     0x55f0600bfabd _PyMethodDef_RawFastCallKeywords\n",
      "\u001b[2m\u001b[36m(pid=49090)\u001b[0m     @     0x55f0600bfdb1 _PyCFunction_FastCallKeywords\n",
      "\u001b[2m\u001b[36m(pid=49090)\u001b[0m     @     0x55f06012b5be _PyEval_EvalFrameDefault\n",
      "\u001b[2m\u001b[36m(pid=49090)\u001b[0m     @     0x55f06006fb00 _PyEval_EvalCodeWithName\n",
      "\u001b[2m\u001b[36m(pid=49090)\u001b[0m     @     0x55f0600703e5 _PyFunction_FastCallDict\n",
      "\u001b[2m\u001b[36m(pid=49090)\u001b[0m     @     0x55f06012851a _PyEval_EvalFrameDefault\n",
      "\u001b[2m\u001b[36m(pid=49090)\u001b[0m     @     0x55f0600bf20b _PyFunction_FastCallKeywords\n",
      "\u001b[2m\u001b[36m(pid=49090)\u001b[0m     @     0x55f060126e70 _PyEval_EvalFrameDefault\n",
      "\u001b[2m\u001b[36m(pid=49090)\u001b[0m     @     0x55f0600bf20b _PyFunction_FastCallKeywords\n",
      "\u001b[2m\u001b[36m(pid=49090)\u001b[0m     @     0x55f060126e70 _PyEval_EvalFrameDefault\n",
      "\u001b[2m\u001b[36m(pid=49090)\u001b[0m     @     0x55f0600bf20b _PyFunction_FastCallKeywords\n",
      "\u001b[2m\u001b[36m(pid=49090)\u001b[0m     @     0x55f060126e70 _PyEval_EvalFrameDefault\n",
      "\u001b[2m\u001b[36m(pid=49090)\u001b[0m     @     0x55f06007031b _PyFunction_FastCallDict\n",
      "\u001b[2m\u001b[36m(pid=49090)\u001b[0m     @     0x55f06008eb93 _PyObject_Call_Prepend\n",
      "\u001b[2m\u001b[36m(pid=49090)\u001b[0m     @     0x55f0600c60aa slot_tp_init\n"
     ]
    }
   ],
   "source": [
    "from ray import tune\n",
    "# https://docs.ray.io/en/latest/rllib-training.html#tuned-examples\n",
    "\n",
    "import ray.rllib.agents.ppo as ppo\n",
    "from ray.rllib.agents.ppo import PPOTrainer\n",
    "\n",
    "tune.run(PPOTrainer,\n",
    "         config={\"env\": \"MineRLNavigateDenseVectorObf-v0\",\n",
    "                 \"num_gpus\": 1,\n",
    "                 \"num_workers\": 1,\n",
    "                 \"num_envs_per_worker\": 1,\n",
    "                 \"eager\": False,\n",
    "                 \"use_pytorch\": True,\n",
    "                 'monitor':True, \n",
    "#                  \"model\": {\n",
    "#                     \"custom_model\": \"fc_pov\",\n",
    "#                     }\n",
    "                 }\n",
    "         ,stop={\"training_iteration\": 3})  "
   ]
  },
  {
   "cell_type": "code",
   "execution_count": null,
   "metadata": {},
   "outputs": [],
   "source": []
  },
  {
   "cell_type": "code",
   "execution_count": null,
   "metadata": {},
   "outputs": [],
   "source": []
  }
 ],
 "metadata": {
  "kernelspec": {
   "display_name": "Python 3",
   "language": "python",
   "name": "python3"
  },
  "language_info": {
   "codemirror_mode": {
    "name": "ipython",
    "version": 3
   },
   "file_extension": ".py",
   "mimetype": "text/x-python",
   "name": "python",
   "nbconvert_exporter": "python",
   "pygments_lexer": "ipython3",
   "version": "3.7.7"
  }
 },
 "nbformat": 4,
 "nbformat_minor": 4
}
