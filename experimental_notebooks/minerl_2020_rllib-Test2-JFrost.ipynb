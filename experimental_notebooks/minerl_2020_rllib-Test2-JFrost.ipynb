{
 "cells": [
  {
   "cell_type": "code",
   "execution_count": 1,
   "metadata": {},
   "outputs": [],
   "source": [
    "import gym\n",
    "import ray"
   ]
  },
  {
   "cell_type": "code",
   "execution_count": 2,
   "metadata": {},
   "outputs": [],
   "source": [
    "import numpy as np\n",
    "import torch\n",
    "import torch.optim as optim\n",
    "import torch.nn as nn\n",
    "from torchvision import datasets, transforms\n",
    "from torch.utils.data import DataLoader\n",
    "import torch.nn.functional as F\n",
    "\n",
    "from ray import tune\n",
    "from ray.tune.schedulers import ASHAScheduler"
   ]
  },
  {
   "cell_type": "code",
   "execution_count": 3,
   "metadata": {},
   "outputs": [
    {
     "name": "stderr",
     "output_type": "stream",
     "text": [
      "2020-09-06 14:26:36,944\tINFO resource_spec.py:231 -- Starting Ray with 14.16 GiB memory available for workers and up to 7.09 GiB for objects. You can adjust these settings with ray.init(memory=<bytes>, object_store_memory=<bytes>).\n",
      "2020-09-06 14:26:37,482\tINFO services.py:1193 -- View the Ray dashboard at \u001b[1m\u001b[32mlocalhost:8267\u001b[39m\u001b[22m\n"
     ]
    },
    {
     "data": {
      "text/plain": [
       "{'node_ip_address': '192.168.7.73',\n",
       " 'raylet_ip_address': '192.168.7.73',\n",
       " 'redis_address': '192.168.7.73:24871',\n",
       " 'object_store_address': '/tmp/ray/session_2020-09-06_14-26-36_943216_21585/sockets/plasma_store',\n",
       " 'raylet_socket_name': '/tmp/ray/session_2020-09-06_14-26-36_943216_21585/sockets/raylet',\n",
       " 'webui_url': 'localhost:8267',\n",
       " 'session_dir': '/tmp/ray/session_2020-09-06_14-26-36_943216_21585'}"
      ]
     },
     "execution_count": 3,
     "metadata": {},
     "output_type": "execute_result"
    }
   ],
   "source": [
    "# Initialize Ray\n",
    "ray.shutdown()\n",
    "ray.init(ignore_reinit_error=True)"
   ]
  },
  {
   "cell_type": "code",
   "execution_count": 4,
   "metadata": {},
   "outputs": [
    {
     "name": "stdout",
     "output_type": "stream",
     "text": [
      "Dashboard URL: http://localhost:8267\n"
     ]
    }
   ],
   "source": [
    "print(\"Dashboard URL: http://{}\".format(ray.get_webui_url()))"
   ]
  },
  {
   "cell_type": "markdown",
   "metadata": {},
   "source": [
    "### Register MineRL Gym Environment to RLlib"
   ]
  },
  {
   "cell_type": "code",
   "execution_count": 5,
   "metadata": {},
   "outputs": [
    {
     "name": "stderr",
     "output_type": "stream",
     "text": [
      "/home/blackbox/anaconda3/envs/minerl/lib/python3.7/site-packages/gym/logger.py:30: UserWarning: \u001b[33mWARN: Box bound precision lowered by casting to float32\u001b[0m\n",
      "  warnings.warn(colorize('%s: %s'%('WARN', msg % args), 'yellow'))\n"
     ]
    }
   ],
   "source": [
    "import minerl\n",
    "from gym import envs"
   ]
  },
  {
   "cell_type": "code",
   "execution_count": 6,
   "metadata": {},
   "outputs": [],
   "source": [
    "from minerl_rllib.envs.env import MineRLRandomDebugEnv"
   ]
  },
  {
   "cell_type": "code",
   "execution_count": 7,
   "metadata": {},
   "outputs": [],
   "source": [
    "# Register MineRL Gym Environment to RLLIB\n",
    "# https://docs.ray.io/en/latest/rllib-env.html\n",
    "from ray.tune.registry import register_env\n",
    "\n",
    "def minerl_env_creator(env_config):\n",
    "    import minerl\n",
    "    \n",
    "    if 'minerl_env_name' in env_config:\n",
    "        # TODO use logger\n",
    "        print('MineRL Env Name found...')\n",
    "        env_name = env_config['minerl_env_name']\n",
    "    else:\n",
    "        # TODO use logger\n",
    "        print('No MineRL Env name specified, using MineRLNavigateDense-v0')\n",
    "        env_name = 'MineRLNavigateDense-v0'\n",
    "        \n",
    "        \n",
    "#     # Check minerl environments are imported\n",
    "#     # This only checks Gym environment not the ones registered in Ray!\n",
    "#     all_envs = envs.registry.all()\n",
    "#     env_ids = [env_spec.id for env_spec in all_envs]\n",
    "#     print(env_ids)\n",
    "\n",
    "# This doesnt work, need wrapper to discretize the action space for DQN\n",
    "#     minerl_env = gym.make(env_name) \n",
    "    \n",
    "    # Second version but has .nan rewards\n",
    "#     core_env = gym.make(env_name) # A MineRLNavigate-v0 env\n",
    "#     minerl_env = wrap_env(core_env, test=False)\n",
    "    \n",
    "#     minerl_env = gym.make('MineRLNavigateDense-v0')\n",
    "    \n",
    "    return minerl_env  \n",
    "\n",
    "register_env(\"minerl\", minerl_env_creator)"
   ]
  },
  {
   "cell_type": "code",
   "execution_count": 11,
   "metadata": {},
   "outputs": [],
   "source": [
    "from minerl_rllib.envs import register"
   ]
  },
  {
   "cell_type": "code",
   "execution_count": 12,
   "metadata": {},
   "outputs": [
    {
     "name": "stdout",
     "output_type": "stream",
     "text": [
      "Registering Environment Name: MineRLTreechopVectorObf-v0\n",
      "Registering Environment Name: MineRLNavigateVectorObf-v0\n",
      "Registering Environment Name: MineRLNavigateExtremeVectorObf-v0\n",
      "Registering Environment Name: MineRLNavigateDenseVectorObf-v0\n",
      "Registering Environment Name: MineRLNavigateExtremeDenseVectorObf-v0\n",
      "Registering Environment Name: MineRLObtainDiamondVectorObf-v0\n",
      "Registering Environment Name: MineRLObtainDiamondDenseVectorObf-v0\n",
      "Registering Environment Name: MineRLObtainIronPickaxeVectorObf-v0\n",
      "Registering Environment Name: MineRLObtainIronPickaxeDenseVectorObf-v0\n",
      "Registering Environment Name: MineRLObtainDiamondSurvivalVectorObf-v0\n"
     ]
    }
   ],
   "source": [
    "register()"
   ]
  },
  {
   "cell_type": "code",
   "execution_count": null,
   "metadata": {},
   "outputs": [],
   "source": []
  },
  {
   "cell_type": "code",
   "execution_count": null,
   "metadata": {},
   "outputs": [],
   "source": []
  },
  {
   "cell_type": "code",
   "execution_count": 13,
   "metadata": {},
   "outputs": [
    {
     "name": "stdout",
     "output_type": "stream",
     "text": [
      "WARNING:tensorflow:From /home/blackbox/anaconda3/envs/minerl/lib/python3.7/site-packages/tensorflow_core/python/compat/v2_compat.py:68: disable_resource_variables (from tensorflow.python.ops.variable_scope) is deprecated and will be removed in a future version.\n",
      "Instructions for updating:\n",
      "non-resource variables are not supported in the long term\n"
     ]
    },
    {
     "data": {
      "text/html": [
       "== Status ==<br>Memory usage on this node: 9.4/31.4 GiB<br>Using FIFO scheduling algorithm.<br>Resources requested: 3/16 CPUs, 0/1 GPUs, 0.0/14.16 GiB heap, 0.0/4.88 GiB objects (0/1.0 GPUType:GTX)<br>Result logdir: /home/blackbox/ray_results/PPO<br>Number of trials: 1 (1 RUNNING)<br><table>\n",
       "<thead>\n",
       "<tr><th>Trial name                                     </th><th>status  </th><th>loc  </th></tr>\n",
       "</thead>\n",
       "<tbody>\n",
       "<tr><td>PPO_MineRLNavigateDenseVectorObf-v0_b353d_00000</td><td>RUNNING </td><td>     </td></tr>\n",
       "</tbody>\n",
       "</table><br><br>"
      ],
      "text/plain": [
       "<IPython.core.display.HTML object>"
      ]
     },
     "metadata": {},
     "output_type": "display_data"
    },
    {
     "name": "stderr",
     "output_type": "stream",
     "text": [
      "\u001b[2m\u001b[36m(pid=21679)\u001b[0m WARNING:tensorflow:From /home/blackbox/anaconda3/envs/minerl/lib/python3.7/site-packages/tensorflow_core/python/compat/v2_compat.py:68: disable_resource_variables (from tensorflow.python.ops.variable_scope) is deprecated and will be removed in a future version.\n",
      "\u001b[2m\u001b[36m(pid=21679)\u001b[0m Instructions for updating:\n",
      "\u001b[2m\u001b[36m(pid=21679)\u001b[0m non-resource variables are not supported in the long term\n",
      "\u001b[2m\u001b[36m(pid=21679)\u001b[0m /home/blackbox/anaconda3/envs/minerl/lib/python3.7/site-packages/gym/logger.py:30: UserWarning: \u001b[33mWARN: Box bound precision lowered by casting to float32\u001b[0m\n",
      "\u001b[2m\u001b[36m(pid=21679)\u001b[0m   warnings.warn(colorize('%s: %s'%('WARN', msg % args), 'yellow'))\n",
      "\u001b[2m\u001b[36m(pid=21679)\u001b[0m 2020-09-06 14:27:03,542\tWARNING deprecation.py:30 -- DeprecationWarning: `use_pytorch` has been deprecated. Use `framework=torch` instead. This will raise an error in the future!\n",
      "\u001b[2m\u001b[36m(pid=21679)\u001b[0m 2020-09-06 14:27:03,542\tINFO trainer.py:632 -- Current log_level is WARN. For more information, set 'log_level': 'INFO' / 'DEBUG' or use the -v and -vv flags.\n",
      "\u001b[2m\u001b[36m(pid=21679)\u001b[0m /home/blackbox/anaconda3/envs/minerl/lib/python3.7/site-packages/gym/logger.py:30: UserWarning: \u001b[33mWARN: Trying to monitor an environment which has no 'spec' set. This usually means you did not create it via 'gym.make', and is recommended only for advanced users.\u001b[0m\n",
      "\u001b[2m\u001b[36m(pid=21679)\u001b[0m   warnings.warn(colorize('%s: %s'%('WARN', msg % args), 'yellow'))\n",
      "\u001b[2m\u001b[36m(pid=21679)\u001b[0m 2020-09-06 14:27:42,697\tINFO trainable.py:251 -- Trainable.setup took 40.041 seconds. If your trainable is slow to initialize, consider setting reuse_actors=True to reduce actor creation overheads.\n",
      "\u001b[2m\u001b[36m(pid=21679)\u001b[0m 2020-09-06 14:27:42,697\tWARNING util.py:37 -- Install gputil for GPU system monitoring.\n",
      "\u001b[2m\u001b[36m(pid=21680)\u001b[0m WARNING:tensorflow:From /home/blackbox/anaconda3/envs/minerl/lib/python3.7/site-packages/tensorflow_core/python/compat/v2_compat.py:68: disable_resource_variables (from tensorflow.python.ops.variable_scope) is deprecated and will be removed in a future version.\n",
      "\u001b[2m\u001b[36m(pid=21680)\u001b[0m Instructions for updating:\n",
      "\u001b[2m\u001b[36m(pid=21680)\u001b[0m non-resource variables are not supported in the long term\n",
      "\u001b[2m\u001b[36m(pid=21672)\u001b[0m WARNING:tensorflow:From /home/blackbox/anaconda3/envs/minerl/lib/python3.7/site-packages/tensorflow_core/python/compat/v2_compat.py:68: disable_resource_variables (from tensorflow.python.ops.variable_scope) is deprecated and will be removed in a future version.\n",
      "\u001b[2m\u001b[36m(pid=21672)\u001b[0m Instructions for updating:\n",
      "\u001b[2m\u001b[36m(pid=21672)\u001b[0m non-resource variables are not supported in the long term\n",
      "\u001b[2m\u001b[36m(pid=21680)\u001b[0m /home/blackbox/anaconda3/envs/minerl/lib/python3.7/site-packages/gym/logger.py:30: UserWarning: \u001b[33mWARN: Box bound precision lowered by casting to float32\u001b[0m\n",
      "\u001b[2m\u001b[36m(pid=21680)\u001b[0m   warnings.warn(colorize('%s: %s'%('WARN', msg % args), 'yellow'))\n",
      "\u001b[2m\u001b[36m(pid=21672)\u001b[0m /home/blackbox/anaconda3/envs/minerl/lib/python3.7/site-packages/gym/logger.py:30: UserWarning: \u001b[33mWARN: Box bound precision lowered by casting to float32\u001b[0m\n",
      "\u001b[2m\u001b[36m(pid=21672)\u001b[0m   warnings.warn(colorize('%s: %s'%('WARN', msg % args), 'yellow'))\n",
      "\u001b[2m\u001b[36m(pid=21672)\u001b[0m /home/blackbox/anaconda3/envs/minerl/lib/python3.7/site-packages/gym/logger.py:30: UserWarning: \u001b[33mWARN: Trying to monitor an environment which has no 'spec' set. This usually means you did not create it via 'gym.make', and is recommended only for advanced users.\u001b[0m\n",
      "\u001b[2m\u001b[36m(pid=21672)\u001b[0m   warnings.warn(colorize('%s: %s'%('WARN', msg % args), 'yellow'))\n",
      "\u001b[2m\u001b[36m(pid=21672)\u001b[0m /home/blackbox/anaconda3/envs/minerl/lib/python3.7/site-packages/ray/rllib/utils/torch_ops.py:149: UserWarning: The given NumPy array is not writeable, and PyTorch does not support non-writeable tensors. This means you can write to the underlying (supposedly non-writeable) NumPy array using the tensor. You may want to copy the array to protect its data or make it writeable before converting it to a tensor. This type of warning will be suppressed for the rest of this program. (Triggered internally at  /pytorch/torch/csrc/utils/tensor_numpy.cpp:141.)\n",
      "\u001b[2m\u001b[36m(pid=21672)\u001b[0m   tensor = torch.from_numpy(np.asarray(item))\n",
      "\u001b[2m\u001b[36m(pid=21680)\u001b[0m /home/blackbox/anaconda3/envs/minerl/lib/python3.7/site-packages/gym/logger.py:30: UserWarning: \u001b[33mWARN: Trying to monitor an environment which has no 'spec' set. This usually means you did not create it via 'gym.make', and is recommended only for advanced users.\u001b[0m\n",
      "\u001b[2m\u001b[36m(pid=21680)\u001b[0m   warnings.warn(colorize('%s: %s'%('WARN', msg % args), 'yellow'))\n",
      "\u001b[2m\u001b[36m(pid=21680)\u001b[0m /home/blackbox/anaconda3/envs/minerl/lib/python3.7/site-packages/ray/rllib/utils/torch_ops.py:149: UserWarning: The given NumPy array is not writeable, and PyTorch does not support non-writeable tensors. This means you can write to the underlying (supposedly non-writeable) NumPy array using the tensor. You may want to copy the array to protect its data or make it writeable before converting it to a tensor. This type of warning will be suppressed for the rest of this program. (Triggered internally at  /pytorch/torch/csrc/utils/tensor_numpy.cpp:141.)\n",
      "\u001b[2m\u001b[36m(pid=21680)\u001b[0m   tensor = torch.from_numpy(np.asarray(item))\n",
      "\u001b[2m\u001b[36m(pid=21680)\u001b[0m /home/blackbox/anaconda3/envs/minerl/lib/python3.7/site-packages/minerl/herobraine/wrappers/obfuscation_wrapper.py:67: RuntimeWarning: invalid value encountered in true_divide\n",
      "\u001b[2m\u001b[36m(pid=21680)\u001b[0m   x[..., a:b] = e_x / e_x.sum(axis=-1)\n"
     ]
    },
    {
     "name": "stdout",
     "output_type": "stream",
     "text": [
      "Result for PPO_MineRLNavigateDenseVectorObf-v0_b353d_00000:\n",
      "  custom_metrics: {}\n",
      "  date: 2020-09-06_14-33-14\n",
      "  done: true\n",
      "  episode_len_mean: .nan\n",
      "  episode_reward_max: .nan\n",
      "  episode_reward_mean: .nan\n",
      "  episode_reward_min: .nan\n",
      "  episodes_this_iter: 0\n",
      "  episodes_total: 0\n",
      "  experiment_id: 89e50cbf5e214e44a24b27cea0b9633f\n",
      "  experiment_tag: '0'\n",
      "  hostname: blackbox\n",
      "  info:\n",
      "    learner:\n",
      "      default_policy:\n",
      "        allreduce_latency: 0.0\n",
      "        cur_kl_coeff: 0.2\n",
      "        cur_lr: 5.0e-05\n",
      "        entropy: 90.88575339317322\n",
      "        entropy_coeff: 0.0\n",
      "        kl: 0.032430309103801847\n",
      "        policy_loss: -0.060248322144616395\n",
      "        total_loss: 0.2571080564521253\n",
      "        vf_explained_var: 0.017088599503040314\n",
      "        vf_loss: 0.3108703177422285\n",
      "    num_steps_sampled: 4000\n",
      "    num_steps_trained: 4000\n",
      "  iterations_since_restore: 1\n",
      "  node_ip: 192.168.7.73\n",
      "  num_healthy_workers: 2\n",
      "  off_policy_estimator: {}\n",
      "  perf:\n",
      "    cpu_util_percent: 58.006553911205074\n",
      "    ram_util_percent: 67.83551797040168\n",
      "  pid: 21679\n",
      "  policy_reward_max: {}\n",
      "  policy_reward_mean: {}\n",
      "  policy_reward_min: {}\n",
      "  sampler_perf: {}\n",
      "  time_since_restore: 331.34981179237366\n",
      "  time_this_iter_s: 331.34981179237366\n",
      "  time_total_s: 331.34981179237366\n",
      "  timers:\n",
      "    learn_throughput: 17.95\n",
      "    learn_time_ms: 222844.309\n",
      "    sample_throughput: 36.877\n",
      "    sample_time_ms: 108469.372\n",
      "    update_time_ms: 15.552\n",
      "  timestamp: 1599427994\n",
      "  timesteps_since_restore: 0\n",
      "  timesteps_total: 4000\n",
      "  training_iteration: 1\n",
      "  trial_id: b353d_00000\n",
      "  \n"
     ]
    },
    {
     "data": {
      "text/html": [
       "== Status ==<br>Memory usage on this node: 22.3/31.4 GiB<br>Using FIFO scheduling algorithm.<br>Resources requested: 0/16 CPUs, 0/1 GPUs, 0.0/14.16 GiB heap, 0.0/4.88 GiB objects (0/1.0 GPUType:GTX)<br>Result logdir: /home/blackbox/ray_results/PPO<br>Number of trials: 1 (1 TERMINATED)<br><table>\n",
       "<thead>\n",
       "<tr><th>Trial name                                     </th><th>status    </th><th>loc  </th><th style=\"text-align: right;\">  iter</th><th style=\"text-align: right;\">  total time (s)</th><th style=\"text-align: right;\">  ts</th><th style=\"text-align: right;\">  reward</th></tr>\n",
       "</thead>\n",
       "<tbody>\n",
       "<tr><td>PPO_MineRLNavigateDenseVectorObf-v0_b353d_00000</td><td>TERMINATED</td><td>     </td><td style=\"text-align: right;\">     1</td><td style=\"text-align: right;\">          331.35</td><td style=\"text-align: right;\">4000</td><td style=\"text-align: right;\">     nan</td></tr>\n",
       "</tbody>\n",
       "</table><br><br>"
      ],
      "text/plain": [
       "<IPython.core.display.HTML object>"
      ]
     },
     "metadata": {},
     "output_type": "display_data"
    },
    {
     "data": {
      "text/html": [
       "== Status ==<br>Memory usage on this node: 22.3/31.4 GiB<br>Using FIFO scheduling algorithm.<br>Resources requested: 0/16 CPUs, 0/1 GPUs, 0.0/14.16 GiB heap, 0.0/4.88 GiB objects (0/1.0 GPUType:GTX)<br>Result logdir: /home/blackbox/ray_results/PPO<br>Number of trials: 1 (1 TERMINATED)<br><table>\n",
       "<thead>\n",
       "<tr><th>Trial name                                     </th><th>status    </th><th>loc  </th><th style=\"text-align: right;\">  iter</th><th style=\"text-align: right;\">  total time (s)</th><th style=\"text-align: right;\">  ts</th><th style=\"text-align: right;\">  reward</th></tr>\n",
       "</thead>\n",
       "<tbody>\n",
       "<tr><td>PPO_MineRLNavigateDenseVectorObf-v0_b353d_00000</td><td>TERMINATED</td><td>     </td><td style=\"text-align: right;\">     1</td><td style=\"text-align: right;\">          331.35</td><td style=\"text-align: right;\">4000</td><td style=\"text-align: right;\">     nan</td></tr>\n",
       "</tbody>\n",
       "</table><br><br>"
      ],
      "text/plain": [
       "<IPython.core.display.HTML object>"
      ]
     },
     "metadata": {},
     "output_type": "display_data"
    },
    {
     "data": {
      "text/plain": [
       "<ray.tune.analysis.experiment_analysis.ExperimentAnalysis at 0x7f4d0fe6a750>"
      ]
     },
     "execution_count": 13,
     "metadata": {},
     "output_type": "execute_result"
    },
    {
     "name": "stderr",
     "output_type": "stream",
     "text": [
      "\u001b[2m\u001b[36m(pid=21679)\u001b[0m *** Aborted at 1599427997 (unix time) try \"date -d @1599427997\" if you are using GNU date ***\n",
      "\u001b[2m\u001b[36m(pid=21679)\u001b[0m PC: @                0x0 (unknown)\n",
      "\u001b[2m\u001b[36m(pid=21679)\u001b[0m *** SIGSEGV (@0x7fd308ff99d0) received by PID 22028 (TID 0x7fd32b8df740) from PID 150968784; stack trace: ***\n",
      "\u001b[2m\u001b[36m(pid=21679)\u001b[0m     @     0x7fd32bc503c0 (unknown)\n",
      "\u001b[2m\u001b[36m(pid=21679)\u001b[0m     @     0x7fd32bc45aab __pthread_clockjoin_ex\n",
      "\u001b[2m\u001b[36m(pid=21679)\u001b[0m     @     0x7fd32981b2d3 std::thread::join()\n",
      "\u001b[2m\u001b[36m(pid=21679)\u001b[0m     @     0x7fd329d4c493 ray::gcs::GlobalStateAccessor::Disconnect()\n",
      "\u001b[2m\u001b[36m(pid=21679)\u001b[0m     @     0x7fd329bebfbc __pyx_pw_3ray_7_raylet_19GlobalStateAccessor_5disconnect()\n",
      "\u001b[2m\u001b[36m(pid=21679)\u001b[0m     @     0x5604de6dbb71 _PyMethodDef_RawFastCallKeywords\n",
      "\u001b[2m\u001b[36m(pid=21679)\u001b[0m     @     0x5604de6e2aef _PyMethodDescr_FastCallKeywords\n",
      "\u001b[2m\u001b[36m(pid=21679)\u001b[0m     @     0x5604de74737c _PyEval_EvalFrameDefault\n",
      "\u001b[2m\u001b[36m(pid=21679)\u001b[0m     @     0x5604de6db20b _PyFunction_FastCallKeywords\n",
      "\u001b[2m\u001b[36m(pid=21679)\u001b[0m     @     0x5604de742e70 _PyEval_EvalFrameDefault\n",
      "\u001b[2m\u001b[36m(pid=21679)\u001b[0m     @     0x5604de68b2b9 _PyEval_EvalCodeWithName\n",
      "\u001b[2m\u001b[36m(pid=21679)\u001b[0m     @     0x5604de6db435 _PyFunction_FastCallKeywords\n",
      "\u001b[2m\u001b[36m(pid=21679)\u001b[0m     @     0x5604de742be6 _PyEval_EvalFrameDefault\n",
      "\u001b[2m\u001b[36m(pid=21679)\u001b[0m     @     0x5604de68b2b9 _PyEval_EvalCodeWithName\n",
      "\u001b[2m\u001b[36m(pid=21679)\u001b[0m     @     0x5604de68c3e5 _PyFunction_FastCallDict\n",
      "\u001b[2m\u001b[36m(pid=21679)\u001b[0m     @     0x5604de6f0c70 PyErr_CheckSignals\n",
      "\u001b[2m\u001b[36m(pid=21679)\u001b[0m     @     0x5604de6fc9c6 time_sleep\n",
      "\u001b[2m\u001b[36m(pid=21679)\u001b[0m     @     0x5604de6dbabd _PyMethodDef_RawFastCallKeywords\n",
      "\u001b[2m\u001b[36m(pid=21679)\u001b[0m     @     0x5604de6dbdb1 _PyCFunction_FastCallKeywords\n",
      "\u001b[2m\u001b[36m(pid=21679)\u001b[0m     @     0x5604de7475be _PyEval_EvalFrameDefault\n",
      "\u001b[2m\u001b[36m(pid=21679)\u001b[0m     @     0x5604de68bb00 _PyEval_EvalCodeWithName\n",
      "\u001b[2m\u001b[36m(pid=21679)\u001b[0m     @     0x5604de68c3e5 _PyFunction_FastCallDict\n",
      "\u001b[2m\u001b[36m(pid=21679)\u001b[0m     @     0x5604de74451a _PyEval_EvalFrameDefault\n",
      "\u001b[2m\u001b[36m(pid=21679)\u001b[0m     @     0x5604de6db20b _PyFunction_FastCallKeywords\n",
      "\u001b[2m\u001b[36m(pid=21679)\u001b[0m     @     0x5604de742e70 _PyEval_EvalFrameDefault\n",
      "\u001b[2m\u001b[36m(pid=21679)\u001b[0m     @     0x5604de6db20b _PyFunction_FastCallKeywords\n",
      "\u001b[2m\u001b[36m(pid=21679)\u001b[0m     @     0x5604de742e70 _PyEval_EvalFrameDefault\n",
      "\u001b[2m\u001b[36m(pid=21679)\u001b[0m     @     0x5604de6db20b _PyFunction_FastCallKeywords\n",
      "\u001b[2m\u001b[36m(pid=21679)\u001b[0m     @     0x5604de742e70 _PyEval_EvalFrameDefault\n",
      "\u001b[2m\u001b[36m(pid=21679)\u001b[0m     @     0x5604de68c31b _PyFunction_FastCallDict\n",
      "\u001b[2m\u001b[36m(pid=21679)\u001b[0m     @     0x5604de6aab93 _PyObject_Call_Prepend\n",
      "\u001b[2m\u001b[36m(pid=21679)\u001b[0m     @     0x5604de6e20aa slot_tp_init\n",
      "\u001b[2m\u001b[33m(pid=raylet)\u001b[0m E0906 14:33:17.252240 21641 21641 process.cc:434] Failed to kill process 21672 with error system:3: No such process\n",
      "\u001b[2m\u001b[33m(pid=raylet)\u001b[0m E0906 14:33:17.252523 21641 21641 process.cc:434] Failed to kill process 21680 with error system:3: No such process\n"
     ]
    }
   ],
   "source": [
    "from ray import tune\n",
    "from ray.rllib.agents.ppo import PPOTrainer\n",
    "from ray.rllib.agents.dqn import DQNTrainer\n",
    "\n",
    "tune.run(PPOTrainer,\n",
    "         config={\"env\": \"MineRLNavigateDenseVectorObf-v0\",\n",
    "                 \"use_pytorch\": True,\n",
    "                 'monitor':True, \n",
    "#                  \"model\": {\n",
    "#                     \"custom_model\": \"fc_pov\",\n",
    "#                     }\n",
    "                 },\n",
    "         stop={\"training_iteration\": 2, \"timesteps_total\": 1000})  \n",
    "# Config notes:\n",
    "# \"log_level\": \"INFO\" for verbose,\n",
    "# \"eager\": True for eager execution,"
   ]
  },
  {
   "cell_type": "code",
   "execution_count": null,
   "metadata": {},
   "outputs": [],
   "source": []
  },
  {
   "cell_type": "code",
   "execution_count": null,
   "metadata": {},
   "outputs": [],
   "source": []
  }
 ],
 "metadata": {
  "kernelspec": {
   "display_name": "Python 3",
   "language": "python",
   "name": "python3"
  },
  "language_info": {
   "codemirror_mode": {
    "name": "ipython",
    "version": 3
   },
   "file_extension": ".py",
   "mimetype": "text/x-python",
   "name": "python",
   "nbconvert_exporter": "python",
   "pygments_lexer": "ipython3",
   "version": "3.7.7"
  }
 },
 "nbformat": 4,
 "nbformat_minor": 4
}
