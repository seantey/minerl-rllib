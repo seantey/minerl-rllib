{
 "cells": [
  {
   "cell_type": "markdown",
   "metadata": {},
   "source": [
    "## Epic fail, just gets stuck"
   ]
  },
  {
   "cell_type": "code",
   "execution_count": null,
   "metadata": {},
   "outputs": [],
   "source": [
    "import gym\n",
    "import ray"
   ]
  },
  {
   "cell_type": "code",
   "execution_count": null,
   "metadata": {},
   "outputs": [],
   "source": [
    "import numpy as np\n",
    "import torch\n",
    "import torch.optim as optim\n",
    "import torch.nn as nn\n",
    "from torchvision import datasets, transforms\n",
    "from torch.utils.data import DataLoader\n",
    "import torch.nn.functional as F\n",
    "\n",
    "from ray import tune\n",
    "from ray.tune.schedulers import ASHAScheduler"
   ]
  },
  {
   "cell_type": "code",
   "execution_count": null,
   "metadata": {},
   "outputs": [],
   "source": [
    "# Initialize Ray\n",
    "ray.shutdown()\n",
    "ray.init(ignore_reinit_error=True)"
   ]
  },
  {
   "cell_type": "code",
   "execution_count": null,
   "metadata": {},
   "outputs": [],
   "source": [
    "print(\"Dashboard URL: http://{}\".format(ray.get_webui_url()))"
   ]
  },
  {
   "cell_type": "markdown",
   "metadata": {},
   "source": [
    "### Register MineRL Gym Environment to RLlib"
   ]
  },
  {
   "cell_type": "code",
   "execution_count": null,
   "metadata": {},
   "outputs": [],
   "source": [
    "import minerl\n",
    "from gym import envs"
   ]
  },
  {
   "cell_type": "code",
   "execution_count": null,
   "metadata": {},
   "outputs": [],
   "source": [
    "### Try skipping the next 2 cells"
   ]
  },
  {
   "cell_type": "code",
   "execution_count": null,
   "metadata": {},
   "outputs": [],
   "source": [
    "from minerl_rllib.envs.env import MineRLRandomDebugEnv"
   ]
  },
  {
   "cell_type": "code",
   "execution_count": null,
   "metadata": {},
   "outputs": [],
   "source": [
    "# Register MineRL Gym Environment to RLLIB\n",
    "# https://docs.ray.io/en/latest/rllib-env.html\n",
    "from ray.tune.registry import register_env\n",
    "\n",
    "def minerl_env_creator(env_config):\n",
    "    import minerl\n",
    "    \n",
    "    if 'minerl_env_name' in env_config:\n",
    "        # TODO use logger\n",
    "        print('MineRL Env Name found...')\n",
    "        env_name = env_config['minerl_env_name']\n",
    "    else:\n",
    "        # TODO use logger\n",
    "        print('No MineRL Env name specified, using MineRLNavigateDense-v0')\n",
    "        env_name = 'MineRLNavigateDense-v0'\n",
    "        \n",
    "        \n",
    "#     # Check minerl environments are imported\n",
    "#     # This only checks Gym environment not the ones registered in Ray!\n",
    "#     all_envs = envs.registry.all()\n",
    "#     env_ids = [env_spec.id for env_spec in all_envs]\n",
    "#     print(env_ids)\n",
    "\n",
    "# This doesnt work, need wrapper to discretize the action space for DQN\n",
    "#     minerl_env = gym.make(env_name) \n",
    "    \n",
    "    # Second version but has .nan rewards\n",
    "#     core_env = gym.make(env_name) # A MineRLNavigate-v0 env\n",
    "#     minerl_env = wrap_env(core_env, test=False)\n",
    "    \n",
    "#     minerl_env = gym.make('MineRLNavigateDense-v0')\n",
    "    \n",
    "    return minerl_env  \n",
    "\n",
    "register_env(\"minerl\", minerl_env_creator)"
   ]
  },
  {
   "cell_type": "code",
   "execution_count": null,
   "metadata": {},
   "outputs": [],
   "source": [
    "from minerl_rllib.envs import register"
   ]
  },
  {
   "cell_type": "code",
   "execution_count": null,
   "metadata": {},
   "outputs": [],
   "source": [
    "register()"
   ]
  },
  {
   "cell_type": "code",
   "execution_count": null,
   "metadata": {},
   "outputs": [],
   "source": [
    "print('DONE')"
   ]
  },
  {
   "cell_type": "code",
   "execution_count": null,
   "metadata": {},
   "outputs": [],
   "source": [
    "from ray import tune\n",
    "from ray.rllib.agents.ppo import PPOTrainer\n",
    "from ray.rllib.agents.dqn import DQNTrainer\n",
    "\n",
    "tune.run(PPOTrainer,\n",
    "         config={\"env\": \"MineRLRandomDebug-v0\",\n",
    "                 \"use_pytorch\": True,\n",
    "                 'monitor':True, \n",
    "#                  \"model\": {\n",
    "#                     \"custom_model\": \"fc_pov\",\n",
    "#                     }\n",
    "                 },\n",
    "         stop={\"training_iteration\": 2, \"timesteps_total\": 50})  \n",
    "# Config notes:\n",
    "# \"log_level\": \"INFO\" for verbose,\n",
    "# \"eager\": True for eager execution,"
   ]
  },
  {
   "cell_type": "code",
   "execution_count": null,
   "metadata": {},
   "outputs": [],
   "source": []
  },
  {
   "cell_type": "code",
   "execution_count": null,
   "metadata": {},
   "outputs": [],
   "source": []
  }
 ],
 "metadata": {
  "kernelspec": {
   "display_name": "Python 3",
   "language": "python",
   "name": "python3"
  },
  "language_info": {
   "codemirror_mode": {
    "name": "ipython",
    "version": 3
   },
   "file_extension": ".py",
   "mimetype": "text/x-python",
   "name": "python",
   "nbconvert_exporter": "python",
   "pygments_lexer": "ipython3",
   "version": "3.7.7"
  }
 },
 "nbformat": 4,
 "nbformat_minor": 4
}
